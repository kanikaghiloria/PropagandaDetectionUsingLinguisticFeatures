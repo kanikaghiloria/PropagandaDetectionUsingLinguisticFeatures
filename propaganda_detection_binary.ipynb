{
  "nbformat": 4,
  "nbformat_minor": 0,
  "metadata": {
    "colab": {
      "name": "propaganda_detection_binary.ipynb",
      "provenance": [],
      "collapsed_sections": []
    },
    "kernelspec": {
      "name": "python3",
      "display_name": "Python 3"
    },
    "accelerator": "GPU"
  },
  "cells": [
    {
      "cell_type": "code",
      "metadata": {
        "id": "6ZcIUJbmm6Qi",
        "colab_type": "code",
        "outputId": "ddadb2ce-258b-455e-b634-54fbaca5428f",
        "colab": {
          "base_uri": "https://localhost:8080/",
          "height": 126
        }
      },
      "source": [
        "from google.colab import drive\n",
        "drive.mount('/content/drive')"
      ],
      "execution_count": 1,
      "outputs": [
        {
          "output_type": "stream",
          "text": [
            "Go to this URL in a browser: https://accounts.google.com/o/oauth2/auth?client_id=947318989803-6bn6qk8qdgf4n4g3pfee6491hc0brc4i.apps.googleusercontent.com&redirect_uri=urn%3aietf%3awg%3aoauth%3a2.0%3aoob&response_type=code&scope=email%20https%3a%2f%2fwww.googleapis.com%2fauth%2fdocs.test%20https%3a%2f%2fwww.googleapis.com%2fauth%2fdrive%20https%3a%2f%2fwww.googleapis.com%2fauth%2fdrive.photos.readonly%20https%3a%2f%2fwww.googleapis.com%2fauth%2fpeopleapi.readonly\n",
            "\n",
            "Enter your authorization code:\n",
            "··········\n",
            "Mounted at /content/drive\n"
          ],
          "name": "stdout"
        }
      ]
    },
    {
      "cell_type": "code",
      "metadata": {
        "id": "z7J-VVxtaE0E",
        "colab_type": "code",
        "colab": {
          "base_uri": "https://localhost:8080/",
          "height": 72
        },
        "outputId": "54c7b883-0624-4291-8b11-11860e3c8cf6"
      },
      "source": [
        "import pandas as pd\n",
        "import numpy as np\n",
        "from sklearn import model_selection\n",
        "import matplotlib.pyplot as plt\n",
        "import seaborn as sns"
      ],
      "execution_count": 25,
      "outputs": [
        {
          "output_type": "stream",
          "text": [
            "/usr/local/lib/python3.6/dist-packages/statsmodels/tools/_testing.py:19: FutureWarning: pandas.util.testing is deprecated. Use the functions in the public API at pandas.testing instead.\n",
            "  import pandas.util.testing as tm\n"
          ],
          "name": "stderr"
        }
      ]
    },
    {
      "cell_type": "code",
      "metadata": {
        "id": "3U3TpsdX8lL5",
        "colab_type": "code",
        "colab": {}
      },
      "source": [
        "from sklearn.feature_selection import RFE\n",
        "from sklearn.metrics import f1_score\n",
        "from sklearn.model_selection import GridSearchCV"
      ],
      "execution_count": 0,
      "outputs": []
    },
    {
      "cell_type": "code",
      "metadata": {
        "id": "FoEaMJs2kte1",
        "colab_type": "code",
        "colab": {}
      },
      "source": [
        "from xgboost              import XGBClassifier\n",
        "from sklearn.ensemble     import ExtraTreesClassifier\n",
        "from sklearn.tree         import ExtraTreeClassifier\n",
        "from sklearn.tree         import DecisionTreeClassifier\n",
        "from sklearn.ensemble     import GradientBoostingClassifier\n",
        "from sklearn.ensemble     import BaggingClassifier\n",
        "from sklearn.ensemble     import AdaBoostClassifier\n",
        "from sklearn.ensemble     import RandomForestClassifier\n",
        "from sklearn.linear_model import LogisticRegression\n",
        "from lightgbm             import LGBMClassifier\n",
        "from sklearn.neural_network import MLPClassifier"
      ],
      "execution_count": 0,
      "outputs": []
    },
    {
      "cell_type": "code",
      "metadata": {
        "id": "bqjr6qAGaICe",
        "colab_type": "code",
        "colab": {}
      },
      "source": [
        "dataset = pd.read_csv('/content/drive/My Drive/Colab Notebooks/TextAnalytics/features_binary_classification.csv')"
      ],
      "execution_count": 0,
      "outputs": []
    },
    {
      "cell_type": "code",
      "metadata": {
        "id": "xhGoZT02avIF",
        "colab_type": "code",
        "outputId": "efd53846-69e6-46e1-91d6-9a1119f526a3",
        "colab": {
          "base_uri": "https://localhost:8080/",
          "height": 249
        }
      },
      "source": [
        "dataset.head()"
      ],
      "execution_count": 6,
      "outputs": [
        {
          "output_type": "execute_result",
          "data": {
            "text/html": [
              "<div>\n",
              "<style scoped>\n",
              "    .dataframe tbody tr th:only-of-type {\n",
              "        vertical-align: middle;\n",
              "    }\n",
              "\n",
              "    .dataframe tbody tr th {\n",
              "        vertical-align: top;\n",
              "    }\n",
              "\n",
              "    .dataframe thead th {\n",
              "        text-align: right;\n",
              "    }\n",
              "</style>\n",
              "<table border=\"1\" class=\"dataframe\">\n",
              "  <thead>\n",
              "    <tr style=\"text-align: right;\">\n",
              "      <th></th>\n",
              "      <th>ArticleId:SentenceNumber</th>\n",
              "      <th>Happiness</th>\n",
              "      <th>HarmVirtue</th>\n",
              "      <th>HarmVice</th>\n",
              "      <th>FairnessVirtue</th>\n",
              "      <th>FairnessVice</th>\n",
              "      <th>IngroupVirtue</th>\n",
              "      <th>IngroupVice</th>\n",
              "      <th>AuthorityVirtue</th>\n",
              "      <th>AuthorityVice</th>\n",
              "      <th>PurityVirtue</th>\n",
              "      <th>PurityVice</th>\n",
              "      <th>MoralityGeneral</th>\n",
              "      <th>bias_count</th>\n",
              "      <th>assertives_count</th>\n",
              "      <th>factives_count</th>\n",
              "      <th>hedges_count</th>\n",
              "      <th>implicatives_count</th>\n",
              "      <th>report_verbs_count</th>\n",
              "      <th>positive_op_count</th>\n",
              "      <th>negative_op_count</th>\n",
              "      <th>wneg_count</th>\n",
              "      <th>wpos_count</th>\n",
              "      <th>wneu_count</th>\n",
              "      <th>sneg_count</th>\n",
              "      <th>spos_count</th>\n",
              "      <th>sneu_count</th>\n",
              "      <th>TTR</th>\n",
              "      <th>vad_neg</th>\n",
              "      <th>vad_neu</th>\n",
              "      <th>vad_pos</th>\n",
              "      <th>FKE</th>\n",
              "      <th>SMOG</th>\n",
              "      <th>stop</th>\n",
              "      <th>wordlen</th>\n",
              "      <th>WC</th>\n",
              "      <th>quotes</th>\n",
              "      <th>Exclaim</th>\n",
              "      <th>AllPunc</th>\n",
              "      <th>allcaps</th>\n",
              "      <th>...</th>\n",
              "      <th>anger</th>\n",
              "      <th>sad</th>\n",
              "      <th>cogmech</th>\n",
              "      <th>insight</th>\n",
              "      <th>cause</th>\n",
              "      <th>discrep</th>\n",
              "      <th>tentat</th>\n",
              "      <th>certain</th>\n",
              "      <th>inhib</th>\n",
              "      <th>incl</th>\n",
              "      <th>excl</th>\n",
              "      <th>percept</th>\n",
              "      <th>see</th>\n",
              "      <th>hear</th>\n",
              "      <th>feel</th>\n",
              "      <th>bio</th>\n",
              "      <th>body</th>\n",
              "      <th>health</th>\n",
              "      <th>sexual</th>\n",
              "      <th>ingest</th>\n",
              "      <th>relativ</th>\n",
              "      <th>motion</th>\n",
              "      <th>space</th>\n",
              "      <th>time</th>\n",
              "      <th>work</th>\n",
              "      <th>achieve</th>\n",
              "      <th>leisure</th>\n",
              "      <th>home</th>\n",
              "      <th>money</th>\n",
              "      <th>relig</th>\n",
              "      <th>death</th>\n",
              "      <th>assent</th>\n",
              "      <th>nonfl</th>\n",
              "      <th>filler</th>\n",
              "      <th>avg_word_sim</th>\n",
              "      <th>avg_sent_sim</th>\n",
              "      <th>x_y</th>\n",
              "      <th>x_2</th>\n",
              "      <th>y_2</th>\n",
              "      <th>Propaganda</th>\n",
              "    </tr>\n",
              "  </thead>\n",
              "  <tbody>\n",
              "    <tr>\n",
              "      <th>0</th>\n",
              "      <td>111111112:5</td>\n",
              "      <td>5.258182</td>\n",
              "      <td>0.0</td>\n",
              "      <td>0.0</td>\n",
              "      <td>0.0</td>\n",
              "      <td>0.000000</td>\n",
              "      <td>0.076923</td>\n",
              "      <td>0.0</td>\n",
              "      <td>0.0</td>\n",
              "      <td>0.0</td>\n",
              "      <td>0.0</td>\n",
              "      <td>0.0</td>\n",
              "      <td>0.000000</td>\n",
              "      <td>0.076923</td>\n",
              "      <td>0.0</td>\n",
              "      <td>0.0</td>\n",
              "      <td>0.000000</td>\n",
              "      <td>0.0</td>\n",
              "      <td>0.000000</td>\n",
              "      <td>0.000000</td>\n",
              "      <td>0.0</td>\n",
              "      <td>0.0</td>\n",
              "      <td>0.000000</td>\n",
              "      <td>0.000000</td>\n",
              "      <td>0.0</td>\n",
              "      <td>0.000000</td>\n",
              "      <td>0.0</td>\n",
              "      <td>1.000000</td>\n",
              "      <td>0.167</td>\n",
              "      <td>0.833</td>\n",
              "      <td>0.000</td>\n",
              "      <td>17.6067</td>\n",
              "      <td>12.486833</td>\n",
              "      <td>0.153846</td>\n",
              "      <td>6.818182</td>\n",
              "      <td>13</td>\n",
              "      <td>0.000000</td>\n",
              "      <td>0.0</td>\n",
              "      <td>7.692308</td>\n",
              "      <td>0.000000</td>\n",
              "      <td>...</td>\n",
              "      <td>0.000000</td>\n",
              "      <td>0.0</td>\n",
              "      <td>15.384615</td>\n",
              "      <td>0.000000</td>\n",
              "      <td>0.0</td>\n",
              "      <td>0.000000</td>\n",
              "      <td>0.0</td>\n",
              "      <td>0.0</td>\n",
              "      <td>7.692308</td>\n",
              "      <td>7.692308</td>\n",
              "      <td>0.000000</td>\n",
              "      <td>0.000000</td>\n",
              "      <td>0.0</td>\n",
              "      <td>0.000000</td>\n",
              "      <td>0.0</td>\n",
              "      <td>0.000000</td>\n",
              "      <td>0.000000</td>\n",
              "      <td>0.0</td>\n",
              "      <td>0.0</td>\n",
              "      <td>0.0</td>\n",
              "      <td>7.692308</td>\n",
              "      <td>0.000000</td>\n",
              "      <td>0.000000</td>\n",
              "      <td>7.692308</td>\n",
              "      <td>0.000000</td>\n",
              "      <td>0.000000</td>\n",
              "      <td>0.0</td>\n",
              "      <td>0.000000</td>\n",
              "      <td>0.0</td>\n",
              "      <td>7.692308</td>\n",
              "      <td>0.000000</td>\n",
              "      <td>0.0</td>\n",
              "      <td>0.0</td>\n",
              "      <td>0.0</td>\n",
              "      <td>0.131630</td>\n",
              "      <td>0.771643</td>\n",
              "      <td>0.101572</td>\n",
              "      <td>0.017327</td>\n",
              "      <td>0.595432</td>\n",
              "      <td>yes</td>\n",
              "    </tr>\n",
              "    <tr>\n",
              "      <th>1</th>\n",
              "      <td>111111112:9</td>\n",
              "      <td>5.354286</td>\n",
              "      <td>0.0</td>\n",
              "      <td>0.0</td>\n",
              "      <td>0.0</td>\n",
              "      <td>0.041667</td>\n",
              "      <td>0.000000</td>\n",
              "      <td>0.0</td>\n",
              "      <td>0.0</td>\n",
              "      <td>0.0</td>\n",
              "      <td>0.0</td>\n",
              "      <td>0.0</td>\n",
              "      <td>0.041667</td>\n",
              "      <td>0.083333</td>\n",
              "      <td>0.0</td>\n",
              "      <td>0.0</td>\n",
              "      <td>0.041667</td>\n",
              "      <td>0.0</td>\n",
              "      <td>0.000000</td>\n",
              "      <td>0.041667</td>\n",
              "      <td>0.0</td>\n",
              "      <td>0.0</td>\n",
              "      <td>0.083333</td>\n",
              "      <td>0.041667</td>\n",
              "      <td>0.0</td>\n",
              "      <td>0.000000</td>\n",
              "      <td>0.0</td>\n",
              "      <td>0.952381</td>\n",
              "      <td>0.099</td>\n",
              "      <td>0.782</td>\n",
              "      <td>0.119</td>\n",
              "      <td>11.2264</td>\n",
              "      <td>16.416408</td>\n",
              "      <td>0.375000</td>\n",
              "      <td>5.933333</td>\n",
              "      <td>24</td>\n",
              "      <td>8.333333</td>\n",
              "      <td>0.0</td>\n",
              "      <td>4.166667</td>\n",
              "      <td>0.041667</td>\n",
              "      <td>...</td>\n",
              "      <td>0.000000</td>\n",
              "      <td>0.0</td>\n",
              "      <td>8.333333</td>\n",
              "      <td>0.000000</td>\n",
              "      <td>0.0</td>\n",
              "      <td>4.166667</td>\n",
              "      <td>0.0</td>\n",
              "      <td>0.0</td>\n",
              "      <td>0.000000</td>\n",
              "      <td>0.000000</td>\n",
              "      <td>4.166667</td>\n",
              "      <td>4.166667</td>\n",
              "      <td>0.0</td>\n",
              "      <td>4.166667</td>\n",
              "      <td>0.0</td>\n",
              "      <td>0.000000</td>\n",
              "      <td>0.000000</td>\n",
              "      <td>0.0</td>\n",
              "      <td>0.0</td>\n",
              "      <td>0.0</td>\n",
              "      <td>0.000000</td>\n",
              "      <td>0.000000</td>\n",
              "      <td>0.000000</td>\n",
              "      <td>0.000000</td>\n",
              "      <td>4.166667</td>\n",
              "      <td>0.000000</td>\n",
              "      <td>0.0</td>\n",
              "      <td>4.166667</td>\n",
              "      <td>0.0</td>\n",
              "      <td>0.000000</td>\n",
              "      <td>0.000000</td>\n",
              "      <td>0.0</td>\n",
              "      <td>0.0</td>\n",
              "      <td>0.0</td>\n",
              "      <td>0.411146</td>\n",
              "      <td>0.771643</td>\n",
              "      <td>0.317258</td>\n",
              "      <td>0.169041</td>\n",
              "      <td>0.595432</td>\n",
              "      <td>no</td>\n",
              "    </tr>\n",
              "    <tr>\n",
              "      <th>2</th>\n",
              "      <td>111111112:13</td>\n",
              "      <td>5.020000</td>\n",
              "      <td>0.0</td>\n",
              "      <td>0.0</td>\n",
              "      <td>0.0</td>\n",
              "      <td>0.000000</td>\n",
              "      <td>0.000000</td>\n",
              "      <td>0.0</td>\n",
              "      <td>0.0</td>\n",
              "      <td>0.0</td>\n",
              "      <td>0.0</td>\n",
              "      <td>0.0</td>\n",
              "      <td>0.000000</td>\n",
              "      <td>0.000000</td>\n",
              "      <td>0.0</td>\n",
              "      <td>0.0</td>\n",
              "      <td>0.000000</td>\n",
              "      <td>0.0</td>\n",
              "      <td>0.000000</td>\n",
              "      <td>0.000000</td>\n",
              "      <td>0.0</td>\n",
              "      <td>0.0</td>\n",
              "      <td>0.000000</td>\n",
              "      <td>0.000000</td>\n",
              "      <td>0.0</td>\n",
              "      <td>0.000000</td>\n",
              "      <td>0.0</td>\n",
              "      <td>1.000000</td>\n",
              "      <td>0.000</td>\n",
              "      <td>1.000</td>\n",
              "      <td>0.000</td>\n",
              "      <td>1.3133</td>\n",
              "      <td>8.477226</td>\n",
              "      <td>0.000000</td>\n",
              "      <td>5.000000</td>\n",
              "      <td>3</td>\n",
              "      <td>0.000000</td>\n",
              "      <td>0.0</td>\n",
              "      <td>33.333333</td>\n",
              "      <td>0.000000</td>\n",
              "      <td>...</td>\n",
              "      <td>0.000000</td>\n",
              "      <td>0.0</td>\n",
              "      <td>33.333333</td>\n",
              "      <td>33.333333</td>\n",
              "      <td>0.0</td>\n",
              "      <td>0.000000</td>\n",
              "      <td>0.0</td>\n",
              "      <td>0.0</td>\n",
              "      <td>0.000000</td>\n",
              "      <td>0.000000</td>\n",
              "      <td>0.000000</td>\n",
              "      <td>0.000000</td>\n",
              "      <td>0.0</td>\n",
              "      <td>0.000000</td>\n",
              "      <td>0.0</td>\n",
              "      <td>0.000000</td>\n",
              "      <td>0.000000</td>\n",
              "      <td>0.0</td>\n",
              "      <td>0.0</td>\n",
              "      <td>0.0</td>\n",
              "      <td>0.000000</td>\n",
              "      <td>0.000000</td>\n",
              "      <td>0.000000</td>\n",
              "      <td>0.000000</td>\n",
              "      <td>0.000000</td>\n",
              "      <td>0.000000</td>\n",
              "      <td>0.0</td>\n",
              "      <td>0.000000</td>\n",
              "      <td>0.0</td>\n",
              "      <td>0.000000</td>\n",
              "      <td>0.000000</td>\n",
              "      <td>0.0</td>\n",
              "      <td>0.0</td>\n",
              "      <td>0.0</td>\n",
              "      <td>0.480583</td>\n",
              "      <td>0.771643</td>\n",
              "      <td>0.370838</td>\n",
              "      <td>0.230960</td>\n",
              "      <td>0.595432</td>\n",
              "      <td>no</td>\n",
              "    </tr>\n",
              "    <tr>\n",
              "      <th>3</th>\n",
              "      <td>111111112:17</td>\n",
              "      <td>5.049630</td>\n",
              "      <td>0.0</td>\n",
              "      <td>0.0</td>\n",
              "      <td>0.0</td>\n",
              "      <td>0.000000</td>\n",
              "      <td>0.000000</td>\n",
              "      <td>0.0</td>\n",
              "      <td>0.0</td>\n",
              "      <td>0.0</td>\n",
              "      <td>0.0</td>\n",
              "      <td>0.0</td>\n",
              "      <td>0.000000</td>\n",
              "      <td>0.131579</td>\n",
              "      <td>0.0</td>\n",
              "      <td>0.0</td>\n",
              "      <td>0.000000</td>\n",
              "      <td>0.0</td>\n",
              "      <td>0.000000</td>\n",
              "      <td>0.000000</td>\n",
              "      <td>0.0</td>\n",
              "      <td>0.0</td>\n",
              "      <td>0.000000</td>\n",
              "      <td>0.000000</td>\n",
              "      <td>0.0</td>\n",
              "      <td>0.000000</td>\n",
              "      <td>0.0</td>\n",
              "      <td>0.970588</td>\n",
              "      <td>0.118</td>\n",
              "      <td>0.882</td>\n",
              "      <td>0.000</td>\n",
              "      <td>13.2876</td>\n",
              "      <td>8.477226</td>\n",
              "      <td>0.263158</td>\n",
              "      <td>4.642857</td>\n",
              "      <td>38</td>\n",
              "      <td>0.000000</td>\n",
              "      <td>0.0</td>\n",
              "      <td>10.526316</td>\n",
              "      <td>0.026316</td>\n",
              "      <td>...</td>\n",
              "      <td>2.631579</td>\n",
              "      <td>0.0</td>\n",
              "      <td>0.000000</td>\n",
              "      <td>0.000000</td>\n",
              "      <td>0.0</td>\n",
              "      <td>0.000000</td>\n",
              "      <td>0.0</td>\n",
              "      <td>0.0</td>\n",
              "      <td>0.000000</td>\n",
              "      <td>0.000000</td>\n",
              "      <td>0.000000</td>\n",
              "      <td>0.000000</td>\n",
              "      <td>0.0</td>\n",
              "      <td>0.000000</td>\n",
              "      <td>0.0</td>\n",
              "      <td>2.631579</td>\n",
              "      <td>2.631579</td>\n",
              "      <td>0.0</td>\n",
              "      <td>0.0</td>\n",
              "      <td>0.0</td>\n",
              "      <td>34.210526</td>\n",
              "      <td>2.631579</td>\n",
              "      <td>13.157895</td>\n",
              "      <td>18.421053</td>\n",
              "      <td>0.000000</td>\n",
              "      <td>2.631579</td>\n",
              "      <td>0.0</td>\n",
              "      <td>0.000000</td>\n",
              "      <td>0.0</td>\n",
              "      <td>0.000000</td>\n",
              "      <td>2.631579</td>\n",
              "      <td>0.0</td>\n",
              "      <td>0.0</td>\n",
              "      <td>0.0</td>\n",
              "      <td>0.924318</td>\n",
              "      <td>0.771643</td>\n",
              "      <td>0.713243</td>\n",
              "      <td>0.854363</td>\n",
              "      <td>0.595432</td>\n",
              "      <td>no</td>\n",
              "    </tr>\n",
              "    <tr>\n",
              "      <th>4</th>\n",
              "      <td>111111112:19</td>\n",
              "      <td>5.317241</td>\n",
              "      <td>0.0</td>\n",
              "      <td>0.0</td>\n",
              "      <td>0.0</td>\n",
              "      <td>0.000000</td>\n",
              "      <td>0.000000</td>\n",
              "      <td>0.0</td>\n",
              "      <td>0.0</td>\n",
              "      <td>0.0</td>\n",
              "      <td>0.0</td>\n",
              "      <td>0.0</td>\n",
              "      <td>0.000000</td>\n",
              "      <td>0.022222</td>\n",
              "      <td>0.0</td>\n",
              "      <td>0.0</td>\n",
              "      <td>0.000000</td>\n",
              "      <td>0.0</td>\n",
              "      <td>0.022222</td>\n",
              "      <td>0.022222</td>\n",
              "      <td>0.0</td>\n",
              "      <td>0.0</td>\n",
              "      <td>0.022222</td>\n",
              "      <td>0.000000</td>\n",
              "      <td>0.0</td>\n",
              "      <td>0.022222</td>\n",
              "      <td>0.0</td>\n",
              "      <td>0.868421</td>\n",
              "      <td>0.148</td>\n",
              "      <td>0.785</td>\n",
              "      <td>0.067</td>\n",
              "      <td>15.3533</td>\n",
              "      <td>10.745967</td>\n",
              "      <td>0.355556</td>\n",
              "      <td>4.724138</td>\n",
              "      <td>45</td>\n",
              "      <td>2.222222</td>\n",
              "      <td>0.0</td>\n",
              "      <td>11.111111</td>\n",
              "      <td>0.044444</td>\n",
              "      <td>...</td>\n",
              "      <td>0.000000</td>\n",
              "      <td>0.0</td>\n",
              "      <td>6.666667</td>\n",
              "      <td>0.000000</td>\n",
              "      <td>0.0</td>\n",
              "      <td>0.000000</td>\n",
              "      <td>0.0</td>\n",
              "      <td>0.0</td>\n",
              "      <td>4.444444</td>\n",
              "      <td>2.222222</td>\n",
              "      <td>0.000000</td>\n",
              "      <td>2.222222</td>\n",
              "      <td>0.0</td>\n",
              "      <td>2.222222</td>\n",
              "      <td>0.0</td>\n",
              "      <td>0.000000</td>\n",
              "      <td>0.000000</td>\n",
              "      <td>0.0</td>\n",
              "      <td>0.0</td>\n",
              "      <td>0.0</td>\n",
              "      <td>4.444444</td>\n",
              "      <td>2.222222</td>\n",
              "      <td>2.222222</td>\n",
              "      <td>0.000000</td>\n",
              "      <td>0.000000</td>\n",
              "      <td>0.000000</td>\n",
              "      <td>0.0</td>\n",
              "      <td>4.444444</td>\n",
              "      <td>0.0</td>\n",
              "      <td>0.000000</td>\n",
              "      <td>0.000000</td>\n",
              "      <td>0.0</td>\n",
              "      <td>0.0</td>\n",
              "      <td>0.0</td>\n",
              "      <td>2.628984</td>\n",
              "      <td>0.771643</td>\n",
              "      <td>2.028637</td>\n",
              "      <td>6.911558</td>\n",
              "      <td>0.595432</td>\n",
              "      <td>no</td>\n",
              "    </tr>\n",
              "  </tbody>\n",
              "</table>\n",
              "<p>5 rows × 146 columns</p>\n",
              "</div>"
            ],
            "text/plain": [
              "  ArticleId:SentenceNumber   Happiness  ...       y_2  Propaganda\n",
              "0              111111112:5    5.258182  ...  0.595432         yes\n",
              "1              111111112:9    5.354286  ...  0.595432          no\n",
              "2             111111112:13    5.020000  ...  0.595432          no\n",
              "3             111111112:17    5.049630  ...  0.595432          no\n",
              "4             111111112:19    5.317241  ...  0.595432          no\n",
              "\n",
              "[5 rows x 146 columns]"
            ]
          },
          "metadata": {
            "tags": []
          },
          "execution_count": 6
        }
      ]
    },
    {
      "cell_type": "code",
      "metadata": {
        "id": "FChKQ3Iha9nT",
        "colab_type": "code",
        "outputId": "32df0ffc-fc46-4e30-d49c-b1648d974b36",
        "colab": {
          "base_uri": "https://localhost:8080/",
          "height": 124
        }
      },
      "source": [
        "y = dataset['Propaganda']\n",
        "y.head()"
      ],
      "execution_count": 7,
      "outputs": [
        {
          "output_type": "execute_result",
          "data": {
            "text/plain": [
              "0    yes\n",
              "1     no\n",
              "2     no\n",
              "3     no\n",
              "4     no\n",
              "Name: Propaganda, dtype: object"
            ]
          },
          "metadata": {
            "tags": []
          },
          "execution_count": 7
        }
      ]
    },
    {
      "cell_type": "code",
      "metadata": {
        "id": "EfpIfCiqfRVk",
        "colab_type": "code",
        "outputId": "fd961468-018d-4487-dc13-60c24a1a2313",
        "colab": {
          "base_uri": "https://localhost:8080/",
          "height": 249
        }
      },
      "source": [
        "x = dataset.drop(['ArticleId:SentenceNumber','Propaganda'], axis = 1)\n",
        "x.head()"
      ],
      "execution_count": 8,
      "outputs": [
        {
          "output_type": "execute_result",
          "data": {
            "text/html": [
              "<div>\n",
              "<style scoped>\n",
              "    .dataframe tbody tr th:only-of-type {\n",
              "        vertical-align: middle;\n",
              "    }\n",
              "\n",
              "    .dataframe tbody tr th {\n",
              "        vertical-align: top;\n",
              "    }\n",
              "\n",
              "    .dataframe thead th {\n",
              "        text-align: right;\n",
              "    }\n",
              "</style>\n",
              "<table border=\"1\" class=\"dataframe\">\n",
              "  <thead>\n",
              "    <tr style=\"text-align: right;\">\n",
              "      <th></th>\n",
              "      <th>Happiness</th>\n",
              "      <th>HarmVirtue</th>\n",
              "      <th>HarmVice</th>\n",
              "      <th>FairnessVirtue</th>\n",
              "      <th>FairnessVice</th>\n",
              "      <th>IngroupVirtue</th>\n",
              "      <th>IngroupVice</th>\n",
              "      <th>AuthorityVirtue</th>\n",
              "      <th>AuthorityVice</th>\n",
              "      <th>PurityVirtue</th>\n",
              "      <th>PurityVice</th>\n",
              "      <th>MoralityGeneral</th>\n",
              "      <th>bias_count</th>\n",
              "      <th>assertives_count</th>\n",
              "      <th>factives_count</th>\n",
              "      <th>hedges_count</th>\n",
              "      <th>implicatives_count</th>\n",
              "      <th>report_verbs_count</th>\n",
              "      <th>positive_op_count</th>\n",
              "      <th>negative_op_count</th>\n",
              "      <th>wneg_count</th>\n",
              "      <th>wpos_count</th>\n",
              "      <th>wneu_count</th>\n",
              "      <th>sneg_count</th>\n",
              "      <th>spos_count</th>\n",
              "      <th>sneu_count</th>\n",
              "      <th>TTR</th>\n",
              "      <th>vad_neg</th>\n",
              "      <th>vad_neu</th>\n",
              "      <th>vad_pos</th>\n",
              "      <th>FKE</th>\n",
              "      <th>SMOG</th>\n",
              "      <th>stop</th>\n",
              "      <th>wordlen</th>\n",
              "      <th>WC</th>\n",
              "      <th>quotes</th>\n",
              "      <th>Exclaim</th>\n",
              "      <th>AllPunc</th>\n",
              "      <th>allcaps</th>\n",
              "      <th>CC</th>\n",
              "      <th>...</th>\n",
              "      <th>anx</th>\n",
              "      <th>anger</th>\n",
              "      <th>sad</th>\n",
              "      <th>cogmech</th>\n",
              "      <th>insight</th>\n",
              "      <th>cause</th>\n",
              "      <th>discrep</th>\n",
              "      <th>tentat</th>\n",
              "      <th>certain</th>\n",
              "      <th>inhib</th>\n",
              "      <th>incl</th>\n",
              "      <th>excl</th>\n",
              "      <th>percept</th>\n",
              "      <th>see</th>\n",
              "      <th>hear</th>\n",
              "      <th>feel</th>\n",
              "      <th>bio</th>\n",
              "      <th>body</th>\n",
              "      <th>health</th>\n",
              "      <th>sexual</th>\n",
              "      <th>ingest</th>\n",
              "      <th>relativ</th>\n",
              "      <th>motion</th>\n",
              "      <th>space</th>\n",
              "      <th>time</th>\n",
              "      <th>work</th>\n",
              "      <th>achieve</th>\n",
              "      <th>leisure</th>\n",
              "      <th>home</th>\n",
              "      <th>money</th>\n",
              "      <th>relig</th>\n",
              "      <th>death</th>\n",
              "      <th>assent</th>\n",
              "      <th>nonfl</th>\n",
              "      <th>filler</th>\n",
              "      <th>avg_word_sim</th>\n",
              "      <th>avg_sent_sim</th>\n",
              "      <th>x_y</th>\n",
              "      <th>x_2</th>\n",
              "      <th>y_2</th>\n",
              "    </tr>\n",
              "  </thead>\n",
              "  <tbody>\n",
              "    <tr>\n",
              "      <th>0</th>\n",
              "      <td>5.258182</td>\n",
              "      <td>0.0</td>\n",
              "      <td>0.0</td>\n",
              "      <td>0.0</td>\n",
              "      <td>0.000000</td>\n",
              "      <td>0.076923</td>\n",
              "      <td>0.0</td>\n",
              "      <td>0.0</td>\n",
              "      <td>0.0</td>\n",
              "      <td>0.0</td>\n",
              "      <td>0.0</td>\n",
              "      <td>0.000000</td>\n",
              "      <td>0.076923</td>\n",
              "      <td>0.0</td>\n",
              "      <td>0.0</td>\n",
              "      <td>0.000000</td>\n",
              "      <td>0.0</td>\n",
              "      <td>0.000000</td>\n",
              "      <td>0.000000</td>\n",
              "      <td>0.0</td>\n",
              "      <td>0.0</td>\n",
              "      <td>0.000000</td>\n",
              "      <td>0.000000</td>\n",
              "      <td>0.0</td>\n",
              "      <td>0.000000</td>\n",
              "      <td>0.0</td>\n",
              "      <td>1.000000</td>\n",
              "      <td>0.167</td>\n",
              "      <td>0.833</td>\n",
              "      <td>0.000</td>\n",
              "      <td>17.6067</td>\n",
              "      <td>12.486833</td>\n",
              "      <td>0.153846</td>\n",
              "      <td>6.818182</td>\n",
              "      <td>13</td>\n",
              "      <td>0.000000</td>\n",
              "      <td>0.0</td>\n",
              "      <td>7.692308</td>\n",
              "      <td>0.000000</td>\n",
              "      <td>0.083333</td>\n",
              "      <td>...</td>\n",
              "      <td>0.0</td>\n",
              "      <td>0.000000</td>\n",
              "      <td>0.0</td>\n",
              "      <td>15.384615</td>\n",
              "      <td>0.000000</td>\n",
              "      <td>0.0</td>\n",
              "      <td>0.000000</td>\n",
              "      <td>0.0</td>\n",
              "      <td>0.0</td>\n",
              "      <td>7.692308</td>\n",
              "      <td>7.692308</td>\n",
              "      <td>0.000000</td>\n",
              "      <td>0.000000</td>\n",
              "      <td>0.0</td>\n",
              "      <td>0.000000</td>\n",
              "      <td>0.0</td>\n",
              "      <td>0.000000</td>\n",
              "      <td>0.000000</td>\n",
              "      <td>0.0</td>\n",
              "      <td>0.0</td>\n",
              "      <td>0.0</td>\n",
              "      <td>7.692308</td>\n",
              "      <td>0.000000</td>\n",
              "      <td>0.000000</td>\n",
              "      <td>7.692308</td>\n",
              "      <td>0.000000</td>\n",
              "      <td>0.000000</td>\n",
              "      <td>0.0</td>\n",
              "      <td>0.000000</td>\n",
              "      <td>0.0</td>\n",
              "      <td>7.692308</td>\n",
              "      <td>0.000000</td>\n",
              "      <td>0.0</td>\n",
              "      <td>0.0</td>\n",
              "      <td>0.0</td>\n",
              "      <td>0.131630</td>\n",
              "      <td>0.771643</td>\n",
              "      <td>0.101572</td>\n",
              "      <td>0.017327</td>\n",
              "      <td>0.595432</td>\n",
              "    </tr>\n",
              "    <tr>\n",
              "      <th>1</th>\n",
              "      <td>5.354286</td>\n",
              "      <td>0.0</td>\n",
              "      <td>0.0</td>\n",
              "      <td>0.0</td>\n",
              "      <td>0.041667</td>\n",
              "      <td>0.000000</td>\n",
              "      <td>0.0</td>\n",
              "      <td>0.0</td>\n",
              "      <td>0.0</td>\n",
              "      <td>0.0</td>\n",
              "      <td>0.0</td>\n",
              "      <td>0.041667</td>\n",
              "      <td>0.083333</td>\n",
              "      <td>0.0</td>\n",
              "      <td>0.0</td>\n",
              "      <td>0.041667</td>\n",
              "      <td>0.0</td>\n",
              "      <td>0.000000</td>\n",
              "      <td>0.041667</td>\n",
              "      <td>0.0</td>\n",
              "      <td>0.0</td>\n",
              "      <td>0.083333</td>\n",
              "      <td>0.041667</td>\n",
              "      <td>0.0</td>\n",
              "      <td>0.000000</td>\n",
              "      <td>0.0</td>\n",
              "      <td>0.952381</td>\n",
              "      <td>0.099</td>\n",
              "      <td>0.782</td>\n",
              "      <td>0.119</td>\n",
              "      <td>11.2264</td>\n",
              "      <td>16.416408</td>\n",
              "      <td>0.375000</td>\n",
              "      <td>5.933333</td>\n",
              "      <td>24</td>\n",
              "      <td>8.333333</td>\n",
              "      <td>0.0</td>\n",
              "      <td>4.166667</td>\n",
              "      <td>0.041667</td>\n",
              "      <td>0.000000</td>\n",
              "      <td>...</td>\n",
              "      <td>0.0</td>\n",
              "      <td>0.000000</td>\n",
              "      <td>0.0</td>\n",
              "      <td>8.333333</td>\n",
              "      <td>0.000000</td>\n",
              "      <td>0.0</td>\n",
              "      <td>4.166667</td>\n",
              "      <td>0.0</td>\n",
              "      <td>0.0</td>\n",
              "      <td>0.000000</td>\n",
              "      <td>0.000000</td>\n",
              "      <td>4.166667</td>\n",
              "      <td>4.166667</td>\n",
              "      <td>0.0</td>\n",
              "      <td>4.166667</td>\n",
              "      <td>0.0</td>\n",
              "      <td>0.000000</td>\n",
              "      <td>0.000000</td>\n",
              "      <td>0.0</td>\n",
              "      <td>0.0</td>\n",
              "      <td>0.0</td>\n",
              "      <td>0.000000</td>\n",
              "      <td>0.000000</td>\n",
              "      <td>0.000000</td>\n",
              "      <td>0.000000</td>\n",
              "      <td>4.166667</td>\n",
              "      <td>0.000000</td>\n",
              "      <td>0.0</td>\n",
              "      <td>4.166667</td>\n",
              "      <td>0.0</td>\n",
              "      <td>0.000000</td>\n",
              "      <td>0.000000</td>\n",
              "      <td>0.0</td>\n",
              "      <td>0.0</td>\n",
              "      <td>0.0</td>\n",
              "      <td>0.411146</td>\n",
              "      <td>0.771643</td>\n",
              "      <td>0.317258</td>\n",
              "      <td>0.169041</td>\n",
              "      <td>0.595432</td>\n",
              "    </tr>\n",
              "    <tr>\n",
              "      <th>2</th>\n",
              "      <td>5.020000</td>\n",
              "      <td>0.0</td>\n",
              "      <td>0.0</td>\n",
              "      <td>0.0</td>\n",
              "      <td>0.000000</td>\n",
              "      <td>0.000000</td>\n",
              "      <td>0.0</td>\n",
              "      <td>0.0</td>\n",
              "      <td>0.0</td>\n",
              "      <td>0.0</td>\n",
              "      <td>0.0</td>\n",
              "      <td>0.000000</td>\n",
              "      <td>0.000000</td>\n",
              "      <td>0.0</td>\n",
              "      <td>0.0</td>\n",
              "      <td>0.000000</td>\n",
              "      <td>0.0</td>\n",
              "      <td>0.000000</td>\n",
              "      <td>0.000000</td>\n",
              "      <td>0.0</td>\n",
              "      <td>0.0</td>\n",
              "      <td>0.000000</td>\n",
              "      <td>0.000000</td>\n",
              "      <td>0.0</td>\n",
              "      <td>0.000000</td>\n",
              "      <td>0.0</td>\n",
              "      <td>1.000000</td>\n",
              "      <td>0.000</td>\n",
              "      <td>1.000</td>\n",
              "      <td>0.000</td>\n",
              "      <td>1.3133</td>\n",
              "      <td>8.477226</td>\n",
              "      <td>0.000000</td>\n",
              "      <td>5.000000</td>\n",
              "      <td>3</td>\n",
              "      <td>0.000000</td>\n",
              "      <td>0.0</td>\n",
              "      <td>33.333333</td>\n",
              "      <td>0.000000</td>\n",
              "      <td>0.000000</td>\n",
              "      <td>...</td>\n",
              "      <td>0.0</td>\n",
              "      <td>0.000000</td>\n",
              "      <td>0.0</td>\n",
              "      <td>33.333333</td>\n",
              "      <td>33.333333</td>\n",
              "      <td>0.0</td>\n",
              "      <td>0.000000</td>\n",
              "      <td>0.0</td>\n",
              "      <td>0.0</td>\n",
              "      <td>0.000000</td>\n",
              "      <td>0.000000</td>\n",
              "      <td>0.000000</td>\n",
              "      <td>0.000000</td>\n",
              "      <td>0.0</td>\n",
              "      <td>0.000000</td>\n",
              "      <td>0.0</td>\n",
              "      <td>0.000000</td>\n",
              "      <td>0.000000</td>\n",
              "      <td>0.0</td>\n",
              "      <td>0.0</td>\n",
              "      <td>0.0</td>\n",
              "      <td>0.000000</td>\n",
              "      <td>0.000000</td>\n",
              "      <td>0.000000</td>\n",
              "      <td>0.000000</td>\n",
              "      <td>0.000000</td>\n",
              "      <td>0.000000</td>\n",
              "      <td>0.0</td>\n",
              "      <td>0.000000</td>\n",
              "      <td>0.0</td>\n",
              "      <td>0.000000</td>\n",
              "      <td>0.000000</td>\n",
              "      <td>0.0</td>\n",
              "      <td>0.0</td>\n",
              "      <td>0.0</td>\n",
              "      <td>0.480583</td>\n",
              "      <td>0.771643</td>\n",
              "      <td>0.370838</td>\n",
              "      <td>0.230960</td>\n",
              "      <td>0.595432</td>\n",
              "    </tr>\n",
              "    <tr>\n",
              "      <th>3</th>\n",
              "      <td>5.049630</td>\n",
              "      <td>0.0</td>\n",
              "      <td>0.0</td>\n",
              "      <td>0.0</td>\n",
              "      <td>0.000000</td>\n",
              "      <td>0.000000</td>\n",
              "      <td>0.0</td>\n",
              "      <td>0.0</td>\n",
              "      <td>0.0</td>\n",
              "      <td>0.0</td>\n",
              "      <td>0.0</td>\n",
              "      <td>0.000000</td>\n",
              "      <td>0.131579</td>\n",
              "      <td>0.0</td>\n",
              "      <td>0.0</td>\n",
              "      <td>0.000000</td>\n",
              "      <td>0.0</td>\n",
              "      <td>0.000000</td>\n",
              "      <td>0.000000</td>\n",
              "      <td>0.0</td>\n",
              "      <td>0.0</td>\n",
              "      <td>0.000000</td>\n",
              "      <td>0.000000</td>\n",
              "      <td>0.0</td>\n",
              "      <td>0.000000</td>\n",
              "      <td>0.0</td>\n",
              "      <td>0.970588</td>\n",
              "      <td>0.118</td>\n",
              "      <td>0.882</td>\n",
              "      <td>0.000</td>\n",
              "      <td>13.2876</td>\n",
              "      <td>8.477226</td>\n",
              "      <td>0.263158</td>\n",
              "      <td>4.642857</td>\n",
              "      <td>38</td>\n",
              "      <td>0.000000</td>\n",
              "      <td>0.0</td>\n",
              "      <td>10.526316</td>\n",
              "      <td>0.026316</td>\n",
              "      <td>0.000000</td>\n",
              "      <td>...</td>\n",
              "      <td>0.0</td>\n",
              "      <td>2.631579</td>\n",
              "      <td>0.0</td>\n",
              "      <td>0.000000</td>\n",
              "      <td>0.000000</td>\n",
              "      <td>0.0</td>\n",
              "      <td>0.000000</td>\n",
              "      <td>0.0</td>\n",
              "      <td>0.0</td>\n",
              "      <td>0.000000</td>\n",
              "      <td>0.000000</td>\n",
              "      <td>0.000000</td>\n",
              "      <td>0.000000</td>\n",
              "      <td>0.0</td>\n",
              "      <td>0.000000</td>\n",
              "      <td>0.0</td>\n",
              "      <td>2.631579</td>\n",
              "      <td>2.631579</td>\n",
              "      <td>0.0</td>\n",
              "      <td>0.0</td>\n",
              "      <td>0.0</td>\n",
              "      <td>34.210526</td>\n",
              "      <td>2.631579</td>\n",
              "      <td>13.157895</td>\n",
              "      <td>18.421053</td>\n",
              "      <td>0.000000</td>\n",
              "      <td>2.631579</td>\n",
              "      <td>0.0</td>\n",
              "      <td>0.000000</td>\n",
              "      <td>0.0</td>\n",
              "      <td>0.000000</td>\n",
              "      <td>2.631579</td>\n",
              "      <td>0.0</td>\n",
              "      <td>0.0</td>\n",
              "      <td>0.0</td>\n",
              "      <td>0.924318</td>\n",
              "      <td>0.771643</td>\n",
              "      <td>0.713243</td>\n",
              "      <td>0.854363</td>\n",
              "      <td>0.595432</td>\n",
              "    </tr>\n",
              "    <tr>\n",
              "      <th>4</th>\n",
              "      <td>5.317241</td>\n",
              "      <td>0.0</td>\n",
              "      <td>0.0</td>\n",
              "      <td>0.0</td>\n",
              "      <td>0.000000</td>\n",
              "      <td>0.000000</td>\n",
              "      <td>0.0</td>\n",
              "      <td>0.0</td>\n",
              "      <td>0.0</td>\n",
              "      <td>0.0</td>\n",
              "      <td>0.0</td>\n",
              "      <td>0.000000</td>\n",
              "      <td>0.022222</td>\n",
              "      <td>0.0</td>\n",
              "      <td>0.0</td>\n",
              "      <td>0.000000</td>\n",
              "      <td>0.0</td>\n",
              "      <td>0.022222</td>\n",
              "      <td>0.022222</td>\n",
              "      <td>0.0</td>\n",
              "      <td>0.0</td>\n",
              "      <td>0.022222</td>\n",
              "      <td>0.000000</td>\n",
              "      <td>0.0</td>\n",
              "      <td>0.022222</td>\n",
              "      <td>0.0</td>\n",
              "      <td>0.868421</td>\n",
              "      <td>0.148</td>\n",
              "      <td>0.785</td>\n",
              "      <td>0.067</td>\n",
              "      <td>15.3533</td>\n",
              "      <td>10.745967</td>\n",
              "      <td>0.355556</td>\n",
              "      <td>4.724138</td>\n",
              "      <td>45</td>\n",
              "      <td>2.222222</td>\n",
              "      <td>0.0</td>\n",
              "      <td>11.111111</td>\n",
              "      <td>0.044444</td>\n",
              "      <td>0.026316</td>\n",
              "      <td>...</td>\n",
              "      <td>0.0</td>\n",
              "      <td>0.000000</td>\n",
              "      <td>0.0</td>\n",
              "      <td>6.666667</td>\n",
              "      <td>0.000000</td>\n",
              "      <td>0.0</td>\n",
              "      <td>0.000000</td>\n",
              "      <td>0.0</td>\n",
              "      <td>0.0</td>\n",
              "      <td>4.444444</td>\n",
              "      <td>2.222222</td>\n",
              "      <td>0.000000</td>\n",
              "      <td>2.222222</td>\n",
              "      <td>0.0</td>\n",
              "      <td>2.222222</td>\n",
              "      <td>0.0</td>\n",
              "      <td>0.000000</td>\n",
              "      <td>0.000000</td>\n",
              "      <td>0.0</td>\n",
              "      <td>0.0</td>\n",
              "      <td>0.0</td>\n",
              "      <td>4.444444</td>\n",
              "      <td>2.222222</td>\n",
              "      <td>2.222222</td>\n",
              "      <td>0.000000</td>\n",
              "      <td>0.000000</td>\n",
              "      <td>0.000000</td>\n",
              "      <td>0.0</td>\n",
              "      <td>4.444444</td>\n",
              "      <td>0.0</td>\n",
              "      <td>0.000000</td>\n",
              "      <td>0.000000</td>\n",
              "      <td>0.0</td>\n",
              "      <td>0.0</td>\n",
              "      <td>0.0</td>\n",
              "      <td>2.628984</td>\n",
              "      <td>0.771643</td>\n",
              "      <td>2.028637</td>\n",
              "      <td>6.911558</td>\n",
              "      <td>0.595432</td>\n",
              "    </tr>\n",
              "  </tbody>\n",
              "</table>\n",
              "<p>5 rows × 144 columns</p>\n",
              "</div>"
            ],
            "text/plain": [
              "    Happiness   HarmVirtue   HarmVice  ...       x_y       x_2       y_2\n",
              "0    5.258182          0.0        0.0  ...  0.101572  0.017327  0.595432\n",
              "1    5.354286          0.0        0.0  ...  0.317258  0.169041  0.595432\n",
              "2    5.020000          0.0        0.0  ...  0.370838  0.230960  0.595432\n",
              "3    5.049630          0.0        0.0  ...  0.713243  0.854363  0.595432\n",
              "4    5.317241          0.0        0.0  ...  2.028637  6.911558  0.595432\n",
              "\n",
              "[5 rows x 144 columns]"
            ]
          },
          "metadata": {
            "tags": []
          },
          "execution_count": 8
        }
      ]
    },
    {
      "cell_type": "code",
      "metadata": {
        "id": "bW6Jxw55f3hB",
        "colab_type": "code",
        "colab": {}
      },
      "source": [
        "x_train, x_test, y_train, y_test = model_selection.train_test_split(x, y, test_size=0.2,random_state = 42, stratify = y)"
      ],
      "execution_count": 0,
      "outputs": []
    },
    {
      "cell_type": "code",
      "metadata": {
        "id": "cmL_1t1DtCDz",
        "colab_type": "code",
        "colab": {}
      },
      "source": [
        "x_train.reset_index(drop=True, inplace=True)\n",
        "x_test.reset_index(drop=True, inplace=True)\n",
        "y_train.reset_index(drop=True, inplace=True)\n",
        "y_test.reset_index(drop=True, inplace=True)"
      ],
      "execution_count": 0,
      "outputs": []
    },
    {
      "cell_type": "code",
      "metadata": {
        "id": "cHHO1r90saN2",
        "colab_type": "code",
        "outputId": "c67c8cb8-45ca-4368-affa-a644a766a876",
        "colab": {
          "base_uri": "https://localhost:8080/",
          "height": 88
        }
      },
      "source": [
        "print(x_train.shape)\n",
        "print(x_test.shape)\n",
        "print(y_train.shape)\n",
        "print(y_test.shape)"
      ],
      "execution_count": 12,
      "outputs": [
        {
          "output_type": "stream",
          "text": [
            "(6293, 144)\n",
            "(1574, 144)\n",
            "(6293,)\n",
            "(1574,)\n"
          ],
          "name": "stdout"
        }
      ]
    },
    {
      "cell_type": "code",
      "metadata": {
        "id": "wDMQ1TcwlsmX",
        "colab_type": "code",
        "colab": {
          "base_uri": "https://localhost:8080/",
          "height": 249
        },
        "outputId": "c3c4e086-bb92-4ea9-babf-e6bd68e5f134"
      },
      "source": [
        "x.head()"
      ],
      "execution_count": 13,
      "outputs": [
        {
          "output_type": "execute_result",
          "data": {
            "text/html": [
              "<div>\n",
              "<style scoped>\n",
              "    .dataframe tbody tr th:only-of-type {\n",
              "        vertical-align: middle;\n",
              "    }\n",
              "\n",
              "    .dataframe tbody tr th {\n",
              "        vertical-align: top;\n",
              "    }\n",
              "\n",
              "    .dataframe thead th {\n",
              "        text-align: right;\n",
              "    }\n",
              "</style>\n",
              "<table border=\"1\" class=\"dataframe\">\n",
              "  <thead>\n",
              "    <tr style=\"text-align: right;\">\n",
              "      <th></th>\n",
              "      <th>Happiness</th>\n",
              "      <th>HarmVirtue</th>\n",
              "      <th>HarmVice</th>\n",
              "      <th>FairnessVirtue</th>\n",
              "      <th>FairnessVice</th>\n",
              "      <th>IngroupVirtue</th>\n",
              "      <th>IngroupVice</th>\n",
              "      <th>AuthorityVirtue</th>\n",
              "      <th>AuthorityVice</th>\n",
              "      <th>PurityVirtue</th>\n",
              "      <th>PurityVice</th>\n",
              "      <th>MoralityGeneral</th>\n",
              "      <th>bias_count</th>\n",
              "      <th>assertives_count</th>\n",
              "      <th>factives_count</th>\n",
              "      <th>hedges_count</th>\n",
              "      <th>implicatives_count</th>\n",
              "      <th>report_verbs_count</th>\n",
              "      <th>positive_op_count</th>\n",
              "      <th>negative_op_count</th>\n",
              "      <th>wneg_count</th>\n",
              "      <th>wpos_count</th>\n",
              "      <th>wneu_count</th>\n",
              "      <th>sneg_count</th>\n",
              "      <th>spos_count</th>\n",
              "      <th>sneu_count</th>\n",
              "      <th>TTR</th>\n",
              "      <th>vad_neg</th>\n",
              "      <th>vad_neu</th>\n",
              "      <th>vad_pos</th>\n",
              "      <th>FKE</th>\n",
              "      <th>SMOG</th>\n",
              "      <th>stop</th>\n",
              "      <th>wordlen</th>\n",
              "      <th>WC</th>\n",
              "      <th>quotes</th>\n",
              "      <th>Exclaim</th>\n",
              "      <th>AllPunc</th>\n",
              "      <th>allcaps</th>\n",
              "      <th>CC</th>\n",
              "      <th>...</th>\n",
              "      <th>anx</th>\n",
              "      <th>anger</th>\n",
              "      <th>sad</th>\n",
              "      <th>cogmech</th>\n",
              "      <th>insight</th>\n",
              "      <th>cause</th>\n",
              "      <th>discrep</th>\n",
              "      <th>tentat</th>\n",
              "      <th>certain</th>\n",
              "      <th>inhib</th>\n",
              "      <th>incl</th>\n",
              "      <th>excl</th>\n",
              "      <th>percept</th>\n",
              "      <th>see</th>\n",
              "      <th>hear</th>\n",
              "      <th>feel</th>\n",
              "      <th>bio</th>\n",
              "      <th>body</th>\n",
              "      <th>health</th>\n",
              "      <th>sexual</th>\n",
              "      <th>ingest</th>\n",
              "      <th>relativ</th>\n",
              "      <th>motion</th>\n",
              "      <th>space</th>\n",
              "      <th>time</th>\n",
              "      <th>work</th>\n",
              "      <th>achieve</th>\n",
              "      <th>leisure</th>\n",
              "      <th>home</th>\n",
              "      <th>money</th>\n",
              "      <th>relig</th>\n",
              "      <th>death</th>\n",
              "      <th>assent</th>\n",
              "      <th>nonfl</th>\n",
              "      <th>filler</th>\n",
              "      <th>avg_word_sim</th>\n",
              "      <th>avg_sent_sim</th>\n",
              "      <th>x_y</th>\n",
              "      <th>x_2</th>\n",
              "      <th>y_2</th>\n",
              "    </tr>\n",
              "  </thead>\n",
              "  <tbody>\n",
              "    <tr>\n",
              "      <th>0</th>\n",
              "      <td>5.258182</td>\n",
              "      <td>0.0</td>\n",
              "      <td>0.0</td>\n",
              "      <td>0.0</td>\n",
              "      <td>0.000000</td>\n",
              "      <td>0.076923</td>\n",
              "      <td>0.0</td>\n",
              "      <td>0.0</td>\n",
              "      <td>0.0</td>\n",
              "      <td>0.0</td>\n",
              "      <td>0.0</td>\n",
              "      <td>0.000000</td>\n",
              "      <td>0.076923</td>\n",
              "      <td>0.0</td>\n",
              "      <td>0.0</td>\n",
              "      <td>0.000000</td>\n",
              "      <td>0.0</td>\n",
              "      <td>0.000000</td>\n",
              "      <td>0.000000</td>\n",
              "      <td>0.0</td>\n",
              "      <td>0.0</td>\n",
              "      <td>0.000000</td>\n",
              "      <td>0.000000</td>\n",
              "      <td>0.0</td>\n",
              "      <td>0.000000</td>\n",
              "      <td>0.0</td>\n",
              "      <td>1.000000</td>\n",
              "      <td>0.167</td>\n",
              "      <td>0.833</td>\n",
              "      <td>0.000</td>\n",
              "      <td>17.6067</td>\n",
              "      <td>12.486833</td>\n",
              "      <td>0.153846</td>\n",
              "      <td>6.818182</td>\n",
              "      <td>13</td>\n",
              "      <td>0.000000</td>\n",
              "      <td>0.0</td>\n",
              "      <td>7.692308</td>\n",
              "      <td>0.000000</td>\n",
              "      <td>0.083333</td>\n",
              "      <td>...</td>\n",
              "      <td>0.0</td>\n",
              "      <td>0.000000</td>\n",
              "      <td>0.0</td>\n",
              "      <td>15.384615</td>\n",
              "      <td>0.000000</td>\n",
              "      <td>0.0</td>\n",
              "      <td>0.000000</td>\n",
              "      <td>0.0</td>\n",
              "      <td>0.0</td>\n",
              "      <td>7.692308</td>\n",
              "      <td>7.692308</td>\n",
              "      <td>0.000000</td>\n",
              "      <td>0.000000</td>\n",
              "      <td>0.0</td>\n",
              "      <td>0.000000</td>\n",
              "      <td>0.0</td>\n",
              "      <td>0.000000</td>\n",
              "      <td>0.000000</td>\n",
              "      <td>0.0</td>\n",
              "      <td>0.0</td>\n",
              "      <td>0.0</td>\n",
              "      <td>7.692308</td>\n",
              "      <td>0.000000</td>\n",
              "      <td>0.000000</td>\n",
              "      <td>7.692308</td>\n",
              "      <td>0.000000</td>\n",
              "      <td>0.000000</td>\n",
              "      <td>0.0</td>\n",
              "      <td>0.000000</td>\n",
              "      <td>0.0</td>\n",
              "      <td>7.692308</td>\n",
              "      <td>0.000000</td>\n",
              "      <td>0.0</td>\n",
              "      <td>0.0</td>\n",
              "      <td>0.0</td>\n",
              "      <td>0.131630</td>\n",
              "      <td>0.771643</td>\n",
              "      <td>0.101572</td>\n",
              "      <td>0.017327</td>\n",
              "      <td>0.595432</td>\n",
              "    </tr>\n",
              "    <tr>\n",
              "      <th>1</th>\n",
              "      <td>5.354286</td>\n",
              "      <td>0.0</td>\n",
              "      <td>0.0</td>\n",
              "      <td>0.0</td>\n",
              "      <td>0.041667</td>\n",
              "      <td>0.000000</td>\n",
              "      <td>0.0</td>\n",
              "      <td>0.0</td>\n",
              "      <td>0.0</td>\n",
              "      <td>0.0</td>\n",
              "      <td>0.0</td>\n",
              "      <td>0.041667</td>\n",
              "      <td>0.083333</td>\n",
              "      <td>0.0</td>\n",
              "      <td>0.0</td>\n",
              "      <td>0.041667</td>\n",
              "      <td>0.0</td>\n",
              "      <td>0.000000</td>\n",
              "      <td>0.041667</td>\n",
              "      <td>0.0</td>\n",
              "      <td>0.0</td>\n",
              "      <td>0.083333</td>\n",
              "      <td>0.041667</td>\n",
              "      <td>0.0</td>\n",
              "      <td>0.000000</td>\n",
              "      <td>0.0</td>\n",
              "      <td>0.952381</td>\n",
              "      <td>0.099</td>\n",
              "      <td>0.782</td>\n",
              "      <td>0.119</td>\n",
              "      <td>11.2264</td>\n",
              "      <td>16.416408</td>\n",
              "      <td>0.375000</td>\n",
              "      <td>5.933333</td>\n",
              "      <td>24</td>\n",
              "      <td>8.333333</td>\n",
              "      <td>0.0</td>\n",
              "      <td>4.166667</td>\n",
              "      <td>0.041667</td>\n",
              "      <td>0.000000</td>\n",
              "      <td>...</td>\n",
              "      <td>0.0</td>\n",
              "      <td>0.000000</td>\n",
              "      <td>0.0</td>\n",
              "      <td>8.333333</td>\n",
              "      <td>0.000000</td>\n",
              "      <td>0.0</td>\n",
              "      <td>4.166667</td>\n",
              "      <td>0.0</td>\n",
              "      <td>0.0</td>\n",
              "      <td>0.000000</td>\n",
              "      <td>0.000000</td>\n",
              "      <td>4.166667</td>\n",
              "      <td>4.166667</td>\n",
              "      <td>0.0</td>\n",
              "      <td>4.166667</td>\n",
              "      <td>0.0</td>\n",
              "      <td>0.000000</td>\n",
              "      <td>0.000000</td>\n",
              "      <td>0.0</td>\n",
              "      <td>0.0</td>\n",
              "      <td>0.0</td>\n",
              "      <td>0.000000</td>\n",
              "      <td>0.000000</td>\n",
              "      <td>0.000000</td>\n",
              "      <td>0.000000</td>\n",
              "      <td>4.166667</td>\n",
              "      <td>0.000000</td>\n",
              "      <td>0.0</td>\n",
              "      <td>4.166667</td>\n",
              "      <td>0.0</td>\n",
              "      <td>0.000000</td>\n",
              "      <td>0.000000</td>\n",
              "      <td>0.0</td>\n",
              "      <td>0.0</td>\n",
              "      <td>0.0</td>\n",
              "      <td>0.411146</td>\n",
              "      <td>0.771643</td>\n",
              "      <td>0.317258</td>\n",
              "      <td>0.169041</td>\n",
              "      <td>0.595432</td>\n",
              "    </tr>\n",
              "    <tr>\n",
              "      <th>2</th>\n",
              "      <td>5.020000</td>\n",
              "      <td>0.0</td>\n",
              "      <td>0.0</td>\n",
              "      <td>0.0</td>\n",
              "      <td>0.000000</td>\n",
              "      <td>0.000000</td>\n",
              "      <td>0.0</td>\n",
              "      <td>0.0</td>\n",
              "      <td>0.0</td>\n",
              "      <td>0.0</td>\n",
              "      <td>0.0</td>\n",
              "      <td>0.000000</td>\n",
              "      <td>0.000000</td>\n",
              "      <td>0.0</td>\n",
              "      <td>0.0</td>\n",
              "      <td>0.000000</td>\n",
              "      <td>0.0</td>\n",
              "      <td>0.000000</td>\n",
              "      <td>0.000000</td>\n",
              "      <td>0.0</td>\n",
              "      <td>0.0</td>\n",
              "      <td>0.000000</td>\n",
              "      <td>0.000000</td>\n",
              "      <td>0.0</td>\n",
              "      <td>0.000000</td>\n",
              "      <td>0.0</td>\n",
              "      <td>1.000000</td>\n",
              "      <td>0.000</td>\n",
              "      <td>1.000</td>\n",
              "      <td>0.000</td>\n",
              "      <td>1.3133</td>\n",
              "      <td>8.477226</td>\n",
              "      <td>0.000000</td>\n",
              "      <td>5.000000</td>\n",
              "      <td>3</td>\n",
              "      <td>0.000000</td>\n",
              "      <td>0.0</td>\n",
              "      <td>33.333333</td>\n",
              "      <td>0.000000</td>\n",
              "      <td>0.000000</td>\n",
              "      <td>...</td>\n",
              "      <td>0.0</td>\n",
              "      <td>0.000000</td>\n",
              "      <td>0.0</td>\n",
              "      <td>33.333333</td>\n",
              "      <td>33.333333</td>\n",
              "      <td>0.0</td>\n",
              "      <td>0.000000</td>\n",
              "      <td>0.0</td>\n",
              "      <td>0.0</td>\n",
              "      <td>0.000000</td>\n",
              "      <td>0.000000</td>\n",
              "      <td>0.000000</td>\n",
              "      <td>0.000000</td>\n",
              "      <td>0.0</td>\n",
              "      <td>0.000000</td>\n",
              "      <td>0.0</td>\n",
              "      <td>0.000000</td>\n",
              "      <td>0.000000</td>\n",
              "      <td>0.0</td>\n",
              "      <td>0.0</td>\n",
              "      <td>0.0</td>\n",
              "      <td>0.000000</td>\n",
              "      <td>0.000000</td>\n",
              "      <td>0.000000</td>\n",
              "      <td>0.000000</td>\n",
              "      <td>0.000000</td>\n",
              "      <td>0.000000</td>\n",
              "      <td>0.0</td>\n",
              "      <td>0.000000</td>\n",
              "      <td>0.0</td>\n",
              "      <td>0.000000</td>\n",
              "      <td>0.000000</td>\n",
              "      <td>0.0</td>\n",
              "      <td>0.0</td>\n",
              "      <td>0.0</td>\n",
              "      <td>0.480583</td>\n",
              "      <td>0.771643</td>\n",
              "      <td>0.370838</td>\n",
              "      <td>0.230960</td>\n",
              "      <td>0.595432</td>\n",
              "    </tr>\n",
              "    <tr>\n",
              "      <th>3</th>\n",
              "      <td>5.049630</td>\n",
              "      <td>0.0</td>\n",
              "      <td>0.0</td>\n",
              "      <td>0.0</td>\n",
              "      <td>0.000000</td>\n",
              "      <td>0.000000</td>\n",
              "      <td>0.0</td>\n",
              "      <td>0.0</td>\n",
              "      <td>0.0</td>\n",
              "      <td>0.0</td>\n",
              "      <td>0.0</td>\n",
              "      <td>0.000000</td>\n",
              "      <td>0.131579</td>\n",
              "      <td>0.0</td>\n",
              "      <td>0.0</td>\n",
              "      <td>0.000000</td>\n",
              "      <td>0.0</td>\n",
              "      <td>0.000000</td>\n",
              "      <td>0.000000</td>\n",
              "      <td>0.0</td>\n",
              "      <td>0.0</td>\n",
              "      <td>0.000000</td>\n",
              "      <td>0.000000</td>\n",
              "      <td>0.0</td>\n",
              "      <td>0.000000</td>\n",
              "      <td>0.0</td>\n",
              "      <td>0.970588</td>\n",
              "      <td>0.118</td>\n",
              "      <td>0.882</td>\n",
              "      <td>0.000</td>\n",
              "      <td>13.2876</td>\n",
              "      <td>8.477226</td>\n",
              "      <td>0.263158</td>\n",
              "      <td>4.642857</td>\n",
              "      <td>38</td>\n",
              "      <td>0.000000</td>\n",
              "      <td>0.0</td>\n",
              "      <td>10.526316</td>\n",
              "      <td>0.026316</td>\n",
              "      <td>0.000000</td>\n",
              "      <td>...</td>\n",
              "      <td>0.0</td>\n",
              "      <td>2.631579</td>\n",
              "      <td>0.0</td>\n",
              "      <td>0.000000</td>\n",
              "      <td>0.000000</td>\n",
              "      <td>0.0</td>\n",
              "      <td>0.000000</td>\n",
              "      <td>0.0</td>\n",
              "      <td>0.0</td>\n",
              "      <td>0.000000</td>\n",
              "      <td>0.000000</td>\n",
              "      <td>0.000000</td>\n",
              "      <td>0.000000</td>\n",
              "      <td>0.0</td>\n",
              "      <td>0.000000</td>\n",
              "      <td>0.0</td>\n",
              "      <td>2.631579</td>\n",
              "      <td>2.631579</td>\n",
              "      <td>0.0</td>\n",
              "      <td>0.0</td>\n",
              "      <td>0.0</td>\n",
              "      <td>34.210526</td>\n",
              "      <td>2.631579</td>\n",
              "      <td>13.157895</td>\n",
              "      <td>18.421053</td>\n",
              "      <td>0.000000</td>\n",
              "      <td>2.631579</td>\n",
              "      <td>0.0</td>\n",
              "      <td>0.000000</td>\n",
              "      <td>0.0</td>\n",
              "      <td>0.000000</td>\n",
              "      <td>2.631579</td>\n",
              "      <td>0.0</td>\n",
              "      <td>0.0</td>\n",
              "      <td>0.0</td>\n",
              "      <td>0.924318</td>\n",
              "      <td>0.771643</td>\n",
              "      <td>0.713243</td>\n",
              "      <td>0.854363</td>\n",
              "      <td>0.595432</td>\n",
              "    </tr>\n",
              "    <tr>\n",
              "      <th>4</th>\n",
              "      <td>5.317241</td>\n",
              "      <td>0.0</td>\n",
              "      <td>0.0</td>\n",
              "      <td>0.0</td>\n",
              "      <td>0.000000</td>\n",
              "      <td>0.000000</td>\n",
              "      <td>0.0</td>\n",
              "      <td>0.0</td>\n",
              "      <td>0.0</td>\n",
              "      <td>0.0</td>\n",
              "      <td>0.0</td>\n",
              "      <td>0.000000</td>\n",
              "      <td>0.022222</td>\n",
              "      <td>0.0</td>\n",
              "      <td>0.0</td>\n",
              "      <td>0.000000</td>\n",
              "      <td>0.0</td>\n",
              "      <td>0.022222</td>\n",
              "      <td>0.022222</td>\n",
              "      <td>0.0</td>\n",
              "      <td>0.0</td>\n",
              "      <td>0.022222</td>\n",
              "      <td>0.000000</td>\n",
              "      <td>0.0</td>\n",
              "      <td>0.022222</td>\n",
              "      <td>0.0</td>\n",
              "      <td>0.868421</td>\n",
              "      <td>0.148</td>\n",
              "      <td>0.785</td>\n",
              "      <td>0.067</td>\n",
              "      <td>15.3533</td>\n",
              "      <td>10.745967</td>\n",
              "      <td>0.355556</td>\n",
              "      <td>4.724138</td>\n",
              "      <td>45</td>\n",
              "      <td>2.222222</td>\n",
              "      <td>0.0</td>\n",
              "      <td>11.111111</td>\n",
              "      <td>0.044444</td>\n",
              "      <td>0.026316</td>\n",
              "      <td>...</td>\n",
              "      <td>0.0</td>\n",
              "      <td>0.000000</td>\n",
              "      <td>0.0</td>\n",
              "      <td>6.666667</td>\n",
              "      <td>0.000000</td>\n",
              "      <td>0.0</td>\n",
              "      <td>0.000000</td>\n",
              "      <td>0.0</td>\n",
              "      <td>0.0</td>\n",
              "      <td>4.444444</td>\n",
              "      <td>2.222222</td>\n",
              "      <td>0.000000</td>\n",
              "      <td>2.222222</td>\n",
              "      <td>0.0</td>\n",
              "      <td>2.222222</td>\n",
              "      <td>0.0</td>\n",
              "      <td>0.000000</td>\n",
              "      <td>0.000000</td>\n",
              "      <td>0.0</td>\n",
              "      <td>0.0</td>\n",
              "      <td>0.0</td>\n",
              "      <td>4.444444</td>\n",
              "      <td>2.222222</td>\n",
              "      <td>2.222222</td>\n",
              "      <td>0.000000</td>\n",
              "      <td>0.000000</td>\n",
              "      <td>0.000000</td>\n",
              "      <td>0.0</td>\n",
              "      <td>4.444444</td>\n",
              "      <td>0.0</td>\n",
              "      <td>0.000000</td>\n",
              "      <td>0.000000</td>\n",
              "      <td>0.0</td>\n",
              "      <td>0.0</td>\n",
              "      <td>0.0</td>\n",
              "      <td>2.628984</td>\n",
              "      <td>0.771643</td>\n",
              "      <td>2.028637</td>\n",
              "      <td>6.911558</td>\n",
              "      <td>0.595432</td>\n",
              "    </tr>\n",
              "  </tbody>\n",
              "</table>\n",
              "<p>5 rows × 144 columns</p>\n",
              "</div>"
            ],
            "text/plain": [
              "    Happiness   HarmVirtue   HarmVice  ...       x_y       x_2       y_2\n",
              "0    5.258182          0.0        0.0  ...  0.101572  0.017327  0.595432\n",
              "1    5.354286          0.0        0.0  ...  0.317258  0.169041  0.595432\n",
              "2    5.020000          0.0        0.0  ...  0.370838  0.230960  0.595432\n",
              "3    5.049630          0.0        0.0  ...  0.713243  0.854363  0.595432\n",
              "4    5.317241          0.0        0.0  ...  2.028637  6.911558  0.595432\n",
              "\n",
              "[5 rows x 144 columns]"
            ]
          },
          "metadata": {
            "tags": []
          },
          "execution_count": 13
        }
      ]
    },
    {
      "cell_type": "code",
      "metadata": {
        "id": "wGTK93A1wkRu",
        "colab_type": "code",
        "colab": {}
      },
      "source": [
        "parameters = {'n_estimators': [100,160,200,500, 700, 900, 1000, 1200, 1500, 1600]}\n",
        "clf_rf_test = RandomForestClassifier(n_jobs=-1, random_state=0)\n",
        "rf = GridSearchCV(clf_rf_test, parameters, n_jobs=-1)"
      ],
      "execution_count": 0,
      "outputs": []
    },
    {
      "cell_type": "code",
      "metadata": {
        "id": "PomJhJ0qw1sD",
        "colab_type": "code",
        "outputId": "ba1a80a0-38fb-4d74-feda-bea27cfdce69",
        "colab": {
          "base_uri": "https://localhost:8080/",
          "height": 428
        }
      },
      "source": [
        "rf.fit(x, y)"
      ],
      "execution_count": 37,
      "outputs": [
        {
          "output_type": "stream",
          "text": [
            "/usr/local/lib/python3.6/dist-packages/joblib/externals/loky/process_executor.py:706: UserWarning: A worker stopped while some jobs were given to the executor. This can be caused by a too short worker timeout or by a memory leak.\n",
            "  \"timeout or by a memory leak.\", UserWarning\n"
          ],
          "name": "stderr"
        },
        {
          "output_type": "execute_result",
          "data": {
            "text/plain": [
              "GridSearchCV(cv=None, error_score=nan,\n",
              "             estimator=RandomForestClassifier(bootstrap=True, ccp_alpha=0.0,\n",
              "                                              class_weight=None,\n",
              "                                              criterion='gini', max_depth=None,\n",
              "                                              max_features='auto',\n",
              "                                              max_leaf_nodes=None,\n",
              "                                              max_samples=None,\n",
              "                                              min_impurity_decrease=0.0,\n",
              "                                              min_impurity_split=None,\n",
              "                                              min_samples_leaf=1,\n",
              "                                              min_samples_split=2,\n",
              "                                              min_weight_fraction_leaf=0.0,\n",
              "                                              n_estimators=100, n_jobs=-1,\n",
              "                                              oob_score=False, random_state=0,\n",
              "                                              verbose=0, warm_start=False),\n",
              "             iid='deprecated', n_jobs=-1,\n",
              "             param_grid={'n_estimators': [100, 160, 200, 500, 700, 900, 1000,\n",
              "                                          1200, 1500, 1600]},\n",
              "             pre_dispatch='2*n_jobs', refit=True, return_train_score=False,\n",
              "             scoring=None, verbose=0)"
            ]
          },
          "metadata": {
            "tags": []
          },
          "execution_count": 37
        }
      ]
    },
    {
      "cell_type": "code",
      "metadata": {
        "id": "hdt5DQuZxOgI",
        "colab_type": "code",
        "outputId": "38003a2d-1512-412c-9d6c-df12dacdfbb8",
        "colab": {
          "base_uri": "https://localhost:8080/",
          "height": 314
        }
      },
      "source": [
        "results = pd.DataFrame(rf.cv_results_)\n",
        "results.sort_values('mean_test_score', ascending = False)\n",
        "results.plot('param_n_estimators','mean_test_score', title=\"Accuracy vs parameter'n_estimators' plot for Random Forrest Classifier\")"
      ],
      "execution_count": 38,
      "outputs": [
        {
          "output_type": "execute_result",
          "data": {
            "text/plain": [
              "<matplotlib.axes._subplots.AxesSubplot at 0x7f204c8d1f98>"
            ]
          },
          "metadata": {
            "tags": []
          },
          "execution_count": 38
        },
        {
          "output_type": "display_data",
          "data": {
            "image/png": "[encoded data removed]",
            "text/plain": [
              "<Figure size 432x288 with 1 Axes>"
            ]
          },
          "metadata": {
            "tags": [],
            "needs_background": "light"
          }
        }
      ]
    },
    {
      "cell_type": "code",
      "metadata": {
        "id": "XDdeplqJIGl5",
        "colab_type": "code",
        "colab": {}
      },
      "source": [
        "labels = ['yes', 'no']"
      ],
      "execution_count": 0,
      "outputs": []
    },
    {
      "cell_type": "code",
      "metadata": {
        "id": "5nhpJ4WRIFz2",
        "colab_type": "code",
        "colab": {}
      },
      "source": [
        "def cm2df(cm, labels):\n",
        "    df = pd.DataFrame()\n",
        "    # rows\n",
        "    for i, row_label in enumerate(labels):\n",
        "        rowdata={}\n",
        "        # columns\n",
        "        for j, col_label in enumerate(labels): \n",
        "            rowdata[col_label]=cm[i,j]\n",
        "        df = df.append(pd.DataFrame.from_dict({row_label:rowdata}, orient='index'))\n",
        "    return df[labels]"
      ],
      "execution_count": 0,
      "outputs": []
    },
    {
      "cell_type": "code",
      "metadata": {
        "id": "U7qbXAxdaGKY",
        "colab_type": "code",
        "colab": {}
      },
      "source": [
        "def computeScores(clf, X_train, y_train, X_test, y_test):   \n",
        "    # __name__ = \"plot_feature_importances\"\n",
        "    \n",
        "    import pandas as pd\n",
        "    import numpy  as np\n",
        "    import matplotlib.pyplot as plt\n",
        "    \n",
        "    from xgboost.core     import XGBoostError\n",
        "    from lightgbm.sklearn import LightGBMError\n",
        "    \n",
        "    try: \n",
        "        # if not hasattr(clf, 'feature_importances_'):\n",
        "        clf.fit(X_train, y_train)\n",
        "        # if not hasattr(clf, 'feature_importances_'):\n",
        "        #   raise AttributeError(\"{} does not have feature_importances_ attribute\".format(clf.__class__.__name__))\n",
        "                \n",
        "    except Exception as e:\n",
        "        print(e)\n",
        "\n",
        "    y_pred = clf.predict(X_test)\n",
        "    accuracy = clf.score(X_test, y_test)\n",
        "    f1score = f1_score(y_test, y_pred, pos_label='yes')\n",
        "\n",
        "    print (clf.__class__.__name__)\n",
        "    print (\"Accuracy: \", accuracy)\n",
        "    print(\"F1 Score: \", f1score)\n",
        "\n",
        "    print(\"Confusion_matrix:\")\n",
        "    # print(metrics.confusion_matrix(y_test, y_pred))\n",
        "  \n",
        "    print(clf.__class__.__name__, \" Classification report:\")\n",
        "    print(metrics.classification_report(y_test, y_pred, digits=3))\n",
        "    cm = metrics.confusion_matrix(y_test, y_pred)\n",
        "    cmdf = cm2df(cm, labels)\n",
        "    plt.figure(figsize=(7,7))\n",
        "    cmap = sns.diverging_palette(220, 10, as_cmap=True)\n",
        "    sns.heatmap(cmdf, cmap=cmap, annot=True, fmt='d')\n",
        "    plt.xlabel('Predicted',size =2)\n",
        "    plt.ylabel('Actual', size =2)\n",
        "    plt.title(clf.__class__.__name__)\n",
        "    plt.show()\n",
        "\n",
        "    \n",
        "    print(\"-------------------------------------------------------------\")\n",
        "        \n",
        "    return accuracy, f1score"
      ],
      "execution_count": 0,
      "outputs": []
    },
    {
      "cell_type": "code",
      "metadata": {
        "id": "NQVRW_a3R5Xd",
        "colab_type": "code",
        "colab": {}
      },
      "source": [
        "def plot_feature_importances(clf, X_train, y_train=None, top_n=10, figsize=(12,6), print_table=False, title=\"Feature Importances\"):\n",
        "   \n",
        "    __name__ = \"plot_feature_importances\"\n",
        "    \n",
        "    import pandas as pd\n",
        "    import numpy  as np\n",
        "    import matplotlib.pyplot as plt\n",
        "    \n",
        "    from xgboost.core     import XGBoostError\n",
        "    from lightgbm.sklearn import LightGBMError\n",
        "    \n",
        "    try: \n",
        "        if not hasattr(clf, 'feature_importances_'):\n",
        "            clf.fit(X_train.values, y_train.values.ravel())\n",
        "\n",
        "            if not hasattr(clf, 'feature_importances_'):\n",
        "                raise AttributeError(\"{} does not have feature_importances_ attribute\".\n",
        "                                    format(clf.__class__.__name__))\n",
        "                \n",
        "    except (XGBoostError, LightGBMError, ValueError):\n",
        "        clf.fit(X_train.values, y_train.values.ravel())\n",
        "            \n",
        "    feat_imp = pd.DataFrame({'importance':clf.feature_importances_})    \n",
        "    feat_imp['feature'] = X_train.columns\n",
        "    feat_imp.sort_values(by='importance', ascending=False, inplace=True)\n",
        "    feat_imp = feat_imp.iloc[:top_n]\n",
        "    \n",
        "    feat_imp.sort_values(by='importance', inplace=True)\n",
        "    feat_imp = feat_imp.set_index('feature', drop=True)\n",
        "    feat_imp.plot.bar(title=title, figsize=figsize)\n",
        "    plt.ylabel('Feature Importance Score')\n",
        "    s = \"/content/drive/My Drive/Colab Notebooks/TextAnalytics/binary results/\" + clf.__class__.__name__\n",
        "    plt.savefig(s)\n",
        "    \n",
        "    if print_table:\n",
        "        from IPython.display import display\n",
        "        print(clf.__class__.__name__, \" top {} features\".format(top_n))\n",
        "        print(\"in descending order of importance\")\n",
        "        display(feat_imp.sort_values(by='importance', ascending=False))\n",
        "        \n",
        "    return feat_imp"
      ],
      "execution_count": 0,
      "outputs": []
    },
    {
      "cell_type": "code",
      "metadata": {
        "id": "YQDj5IJo_p1_",
        "colab_type": "code",
        "colab": {}
      },
      "source": [
        "# LogisticRegression(class_weight='balanced',n_jobs= -1),BaggingClassifier(),  "
      ],
      "execution_count": 0,
      "outputs": []
    },
    {
      "cell_type": "code",
      "metadata": {
        "id": "Mq-JNZ4JSl5h",
        "colab_type": "code",
        "colab": {}
      },
      "source": [
        "clfs = [XGBClassifier(),      LGBMClassifier(), \n",
        "        ExtraTreesClassifier(),       ExtraTreeClassifier(),\n",
        "                DecisionTreeClassifier(),\n",
        "        GradientBoostingClassifier(), \n",
        "        AdaBoostClassifier(),         RandomForestClassifier(n_estimators=1000, n_jobs = -1, random_state=42)]"
      ],
      "execution_count": 0,
      "outputs": []
    },
    {
      "cell_type": "code",
      "metadata": {
        "id": "rNbvYfx4Ifnv",
        "colab_type": "code",
        "colab": {}
      },
      "source": [
        "from sklearn import metrics"
      ],
      "execution_count": 0,
      "outputs": []
    },
    {
      "cell_type": "code",
      "metadata": {
        "id": "d3MRduzXgGiP",
        "colab_type": "code",
        "outputId": "9048c05f-77aa-4c3e-f898-293a7a044ffe",
        "colab": {
          "base_uri": "https://localhost:8080/",
          "height": 1000
        }
      },
      "source": [
        "accuracies =[]\n",
        "f1scores=[]\n",
        "for clf in clfs:\n",
        "    try:\n",
        "      accuracy, f1score = computeScores(clf, x_train, y_train, x_test, y_test)\n",
        "      accuracies.append(accuracy)\n",
        "      f1scores.append(f1score)\n",
        "    except AttributeError as e:\n",
        "      print(e)"
      ],
      "execution_count": 43,
      "outputs": [
        {
          "output_type": "stream",
          "text": [
            "XGBClassifier\n",
            "Accuracy:  0.7096569250317663\n",
            "F1 Score:  0.7083599234205488\n",
            "Confusion_matrix:\n",
            "XGBClassifier  Classification report:\n",
            "              precision    recall  f1-score   support\n",
            "\n",
            "          no      0.708     0.714     0.711       787\n",
            "         yes      0.712     0.705     0.708       787\n",
            "\n",
            "    accuracy                          0.710      1574\n",
            "   macro avg      0.710     0.710     0.710      1574\n",
            "weighted avg      0.710     0.710     0.710      1574\n",
            "\n"
          ],
          "name": "stdout"
        },
        {
          "output_type": "display_data",
          "data": {
            "image/png": "[encoded data removed]",
            "text/plain": [
              "<Figure size 504x504 with 2 Axes>"
            ]
          },
          "metadata": {
            "tags": [],
            "needs_background": "light"
          }
        },
        {
          "output_type": "stream",
          "text": [
            "-------------------------------------------------------------\n",
            "LGBMClassifier\n",
            "Accuracy:  0.7681067344345617\n",
            "F1 Score:  0.7667731629392971\n",
            "Confusion_matrix:\n",
            "LGBMClassifier  Classification report:\n",
            "              precision    recall  f1-score   support\n",
            "\n",
            "          no      0.765     0.774     0.769       787\n",
            "         yes      0.771     0.762     0.767       787\n",
            "\n",
            "    accuracy                          0.768      1574\n",
            "   macro avg      0.768     0.768     0.768      1574\n",
            "weighted avg      0.768     0.768     0.768      1574\n",
            "\n"
          ],
          "name": "stdout"
        },
        {
          "output_type": "display_data",
          "data": {
            "image/png": "[encoded data removed]",
            "text/plain": [
              "<Figure size 504x504 with 2 Axes>"
            ]
          },
          "metadata": {
            "tags": [],
            "needs_background": "light"
          }
        },
        {
          "output_type": "stream",
          "text": [
            "-------------------------------------------------------------\n",
            "ExtraTreesClassifier\n",
            "Accuracy:  0.7001270648030495\n",
            "F1 Score:  0.7064676616915422\n",
            "Confusion_matrix:\n",
            "ExtraTreesClassifier  Classification report:\n",
            "              precision    recall  f1-score   support\n",
            "\n",
            "          no      0.709     0.679     0.694       787\n",
            "         yes      0.692     0.722     0.706       787\n",
            "\n",
            "    accuracy                          0.700      1574\n",
            "   macro avg      0.701     0.700     0.700      1574\n",
            "weighted avg      0.701     0.700     0.700      1574\n",
            "\n"
          ],
          "name": "stdout"
        },
        {
          "output_type": "display_data",
          "data": {
            "image/png": "[encoded data removed]",
            "text/plain": [
              "<Figure size 504x504 with 2 Axes>"
            ]
          },
          "metadata": {
            "tags": [],
            "needs_background": "light"
          }
        },
        {
          "output_type": "stream",
          "text": [
            "-------------------------------------------------------------\n",
            "ExtraTreeClassifier\n",
            "Accuracy:  0.5838627700127065\n",
            "F1 Score:  0.5776918117343649\n",
            "Confusion_matrix:\n",
            "ExtraTreeClassifier  Classification report:\n",
            "              precision    recall  f1-score   support\n",
            "\n",
            "          no      0.581     0.598     0.590       787\n",
            "         yes      0.586     0.569     0.578       787\n",
            "\n",
            "    accuracy                          0.584      1574\n",
            "   macro avg      0.584     0.584     0.584      1574\n",
            "weighted avg      0.584     0.584     0.584      1574\n",
            "\n"
          ],
          "name": "stdout"
        },
        {
          "output_type": "display_data",
          "data": {
            "image/png": "[encoded data removed]",
            "text/plain": [
              "<Figure size 504x504 with 2 Axes>"
            ]
          },
          "metadata": {
            "tags": [],
            "needs_background": "light"
          }
        },
        {
          "output_type": "stream",
          "text": [
            "-------------------------------------------------------------\n",
            "DecisionTreeClassifier\n",
            "Accuracy:  0.6296060991105463\n",
            "F1 Score:  0.6321766561514196\n",
            "Confusion_matrix:\n",
            "DecisionTreeClassifier  Classification report:\n",
            "              precision    recall  f1-score   support\n",
            "\n",
            "          no      0.631     0.623     0.627       787\n",
            "         yes      0.628     0.637     0.632       787\n",
            "\n",
            "    accuracy                          0.630      1574\n",
            "   macro avg      0.630     0.630     0.630      1574\n",
            "weighted avg      0.630     0.630     0.630      1574\n",
            "\n"
          ],
          "name": "stdout"
        },
        {
          "output_type": "display_data",
          "data": {
            "image/png": "[encoded data removed]",
            "text/plain": [
              "<Figure size 504x504 with 2 Axes>"
            ]
          },
          "metadata": {
            "tags": [],
            "needs_background": "light"
          }
        },
        {
          "output_type": "stream",
          "text": [
            "-------------------------------------------------------------\n",
            "GradientBoostingClassifier\n",
            "Accuracy:  0.7204574332909784\n",
            "F1 Score:  0.7193877551020408\n",
            "Confusion_matrix:\n",
            "GradientBoostingClassifier  Classification report:\n",
            "              precision    recall  f1-score   support\n",
            "\n",
            "          no      0.719     0.724     0.722       787\n",
            "         yes      0.722     0.717     0.719       787\n",
            "\n",
            "    accuracy                          0.720      1574\n",
            "   macro avg      0.720     0.720     0.720      1574\n",
            "weighted avg      0.720     0.720     0.720      1574\n",
            "\n"
          ],
          "name": "stdout"
        },
        {
          "output_type": "display_data",
          "data": {
            "image/png": "[encoded data removed]",
            "text/plain": [
              "<Figure size 504x504 with 2 Axes>"
            ]
          },
          "metadata": {
            "tags": [],
            "needs_background": "light"
          }
        },
        {
          "output_type": "stream",
          "text": [
            "-------------------------------------------------------------\n",
            "AdaBoostClassifier\n",
            "Accuracy:  0.7083862770012707\n",
            "F1 Score:  0.7107750472589792\n",
            "Confusion_matrix:\n",
            "AdaBoostClassifier  Classification report:\n",
            "              precision    recall  f1-score   support\n",
            "\n",
            "          no      0.712     0.700     0.706       787\n",
            "         yes      0.705     0.717     0.711       787\n",
            "\n",
            "    accuracy                          0.708      1574\n",
            "   macro avg      0.708     0.708     0.708      1574\n",
            "weighted avg      0.708     0.708     0.708      1574\n",
            "\n"
          ],
          "name": "stdout"
        },
        {
          "output_type": "display_data",
          "data": {
            "image/png": "[encoded data removed]",
            "text/plain": [
              "<Figure size 504x504 with 2 Axes>"
            ]
          },
          "metadata": {
            "tags": [],
            "needs_background": "light"
          }
        },
        {
          "output_type": "stream",
          "text": [
            "-------------------------------------------------------------\n",
            "RandomForestClassifier\n",
            "Accuracy:  0.7172808132147395\n",
            "F1 Score:  0.7258163894023415\n",
            "Confusion_matrix:\n",
            "RandomForestClassifier  Classification report:\n",
            "              precision    recall  f1-score   support\n",
            "\n",
            "          no      0.732     0.686     0.708       787\n",
            "         yes      0.705     0.748     0.726       787\n",
            "\n",
            "    accuracy                          0.717      1574\n",
            "   macro avg      0.718     0.717     0.717      1574\n",
            "weighted avg      0.718     0.717     0.717      1574\n",
            "\n"
          ],
          "name": "stdout"
        },
        {
          "output_type": "display_data",
          "data": {
            "image/png": "[encoded data removed]",
            "text/plain": [
              "<Figure size 504x504 with 2 Axes>"
            ]
          },
          "metadata": {
            "tags": [],
            "needs_background": "light"
          }
        },
        {
          "output_type": "stream",
          "text": [
            "-------------------------------------------------------------\n"
          ],
          "name": "stdout"
        }
      ]
    },
    {
      "cell_type": "code",
      "metadata": {
        "id": "xubRhg3z_6TP",
        "colab_type": "code",
        "colab": {}
      },
      "source": [
        "clf_names=[]\n",
        "for clf in clfs:\n",
        "  clf_names.append(clf.__class__.__name__)"
      ],
      "execution_count": 0,
      "outputs": []
    },
    {
      "cell_type": "code",
      "metadata": {
        "id": "mvamd_tZ_3bZ",
        "colab_type": "code",
        "colab": {}
      },
      "source": [
        "results = {}\n",
        "results['Classifier'] = clf_names\n",
        "results['Accuracy'] = accuracies\n",
        "results['F1 Scores'] = f1scores"
      ],
      "execution_count": 0,
      "outputs": []
    },
    {
      "cell_type": "code",
      "metadata": {
        "id": "HLi0DgMSAZla",
        "colab_type": "code",
        "outputId": "8f8a4b49-2083-4abd-bdb5-179e96350fff",
        "colab": {
          "base_uri": "https://localhost:8080/",
          "height": 200
        }
      },
      "source": [
        "df_result = pd.DataFrame.from_dict(results)\n",
        "df_result.head()"
      ],
      "execution_count": 21,
      "outputs": [
        {
          "output_type": "execute_result",
          "data": {
            "text/html": [
              "<div>\n",
              "<style scoped>\n",
              "    .dataframe tbody tr th:only-of-type {\n",
              "        vertical-align: middle;\n",
              "    }\n",
              "\n",
              "    .dataframe tbody tr th {\n",
              "        vertical-align: top;\n",
              "    }\n",
              "\n",
              "    .dataframe thead th {\n",
              "        text-align: right;\n",
              "    }\n",
              "</style>\n",
              "<table border=\"1\" class=\"dataframe\">\n",
              "  <thead>\n",
              "    <tr style=\"text-align: right;\">\n",
              "      <th></th>\n",
              "      <th>Classifier</th>\n",
              "      <th>Accuracy</th>\n",
              "      <th>F1 Scores</th>\n",
              "    </tr>\n",
              "  </thead>\n",
              "  <tbody>\n",
              "    <tr>\n",
              "      <th>0</th>\n",
              "      <td>XGBClassifier</td>\n",
              "      <td>0.709657</td>\n",
              "      <td>0.708360</td>\n",
              "    </tr>\n",
              "    <tr>\n",
              "      <th>1</th>\n",
              "      <td>LGBMClassifier</td>\n",
              "      <td>0.768107</td>\n",
              "      <td>0.766773</td>\n",
              "    </tr>\n",
              "    <tr>\n",
              "      <th>2</th>\n",
              "      <td>ExtraTreesClassifier</td>\n",
              "      <td>0.695680</td>\n",
              "      <td>0.705231</td>\n",
              "    </tr>\n",
              "    <tr>\n",
              "      <th>3</th>\n",
              "      <td>ExtraTreeClassifier</td>\n",
              "      <td>0.589581</td>\n",
              "      <td>0.588535</td>\n",
              "    </tr>\n",
              "    <tr>\n",
              "      <th>4</th>\n",
              "      <td>DecisionTreeClassifier</td>\n",
              "      <td>0.635324</td>\n",
              "      <td>0.636709</td>\n",
              "    </tr>\n",
              "  </tbody>\n",
              "</table>\n",
              "</div>"
            ],
            "text/plain": [
              "               Classifier  Accuracy  F1 Scores\n",
              "0           XGBClassifier  0.709657   0.708360\n",
              "1          LGBMClassifier  0.768107   0.766773\n",
              "2    ExtraTreesClassifier  0.695680   0.705231\n",
              "3     ExtraTreeClassifier  0.589581   0.588535\n",
              "4  DecisionTreeClassifier  0.635324   0.636709"
            ]
          },
          "metadata": {
            "tags": []
          },
          "execution_count": 21
        }
      ]
    },
    {
      "cell_type": "code",
      "metadata": {
        "id": "lrLMfkzYBWBx",
        "colab_type": "code",
        "outputId": "592a3389-1f7d-4b17-875e-977060a8c86b",
        "colab": {
          "base_uri": "https://localhost:8080/",
          "height": 72
        }
      },
      "source": [
        "import seaborn as sns"
      ],
      "execution_count": 22,
      "outputs": [
        {
          "output_type": "stream",
          "text": [
            "/usr/local/lib/python3.6/dist-packages/statsmodels/tools/_testing.py:19: FutureWarning: pandas.util.testing is deprecated. Use the functions in the public API at pandas.testing instead.\n",
            "  import pandas.util.testing as tm\n"
          ],
          "name": "stderr"
        }
      ]
    },
    {
      "cell_type": "code",
      "metadata": {
        "id": "-xdCEqP6AqWk",
        "colab_type": "code",
        "outputId": "12089a1c-0916-4477-9c96-03d71eeeafdd",
        "colab": {
          "base_uri": "https://localhost:8080/",
          "height": 405
        }
      },
      "source": [
        "g = sns.catplot(x=\"Classifier\", y=\"Accuracy\",kind='bar',data=df_result,palette='summer')\n",
        "\n",
        "g.fig.autofmt_xdate()"
      ],
      "execution_count": 28,
      "outputs": [
        {
          "output_type": "display_data",
          "data": {
            "image/png": "[encoded data removed]",
            "text/plain": [
              "<Figure size 360x360 with 1 Axes>"
            ]
          },
          "metadata": {
            "tags": [],
            "needs_background": "light"
          }
        }
      ]
    },
    {
      "cell_type": "code",
      "metadata": {
        "id": "MnvYY2GmBdp_",
        "colab_type": "code",
        "outputId": "89654fb1-7a22-42cf-9ac2-88e5ccf2e583",
        "colab": {
          "base_uri": "https://localhost:8080/",
          "height": 405
        }
      },
      "source": [
        "g = sns.catplot(x=\"Classifier\", y=\"F1 Scores\",kind='bar',data=df_result,palette='summer')\n",
        "\n",
        "g.fig.autofmt_xdate()"
      ],
      "execution_count": 29,
      "outputs": [
        {
          "output_type": "display_data",
          "data": {
            "image/png": "[encoded data removed]",
            "text/plain": [
              "<Figure size 360x360 with 1 Axes>"
            ]
          },
          "metadata": {
            "tags": [],
            "needs_background": "light"
          }
        }
      ]
    },
    {
      "cell_type": "code",
      "metadata": {
        "id": "vqqe5fgXSqO9",
        "colab_type": "code",
        "outputId": "9106d57c-816e-48a4-ae5d-d1d4f185ac0f",
        "colab": {
          "base_uri": "https://localhost:8080/",
          "height": 1000
        }
      },
      "source": [
        "for clf in clfs:\n",
        "    try:\n",
        "      _ = plot_feature_importances(clf, x_train, y_train, top_n= 10,figsize=(12,7),print_table=True, title=clf.__class__.__name__)\n",
        "      # accuracies.append(accuracy)\n",
        "      # f1scores.append(f1score)\n",
        "    except AttributeError as e:\n",
        "      print(e)"
      ],
      "execution_count": 25,
      "outputs": [
        {
          "output_type": "stream",
          "text": [
            "XGBClassifier  top 10 features\n",
            "in descending order of importance\n"
          ],
          "name": "stdout"
        },
        {
          "output_type": "display_data",
          "data": {
            "text/html": [
              "<div>\n",
              "<style scoped>\n",
              "    .dataframe tbody tr th:only-of-type {\n",
              "        vertical-align: middle;\n",
              "    }\n",
              "\n",
              "    .dataframe tbody tr th {\n",
              "        vertical-align: top;\n",
              "    }\n",
              "\n",
              "    .dataframe thead th {\n",
              "        text-align: right;\n",
              "    }\n",
              "</style>\n",
              "<table border=\"1\" class=\"dataframe\">\n",
              "  <thead>\n",
              "    <tr style=\"text-align: right;\">\n",
              "      <th></th>\n",
              "      <th>importance</th>\n",
              "    </tr>\n",
              "    <tr>\n",
              "      <th>feature</th>\n",
              "      <th></th>\n",
              "    </tr>\n",
              "  </thead>\n",
              "  <tbody>\n",
              "    <tr>\n",
              "      <th>negative_op_count</th>\n",
              "      <td>0.085511</td>\n",
              "    </tr>\n",
              "    <tr>\n",
              "      <th>sneg_count</th>\n",
              "      <td>0.042050</td>\n",
              "    </tr>\n",
              "    <tr>\n",
              "      <th>avg_word_sim</th>\n",
              "      <td>0.041694</td>\n",
              "    </tr>\n",
              "    <tr>\n",
              "      <th>vad_neu</th>\n",
              "      <td>0.033739</td>\n",
              "    </tr>\n",
              "    <tr>\n",
              "      <th>x_y</th>\n",
              "      <td>0.029883</td>\n",
              "    </tr>\n",
              "    <tr>\n",
              "      <th>present</th>\n",
              "      <td>0.027145</td>\n",
              "    </tr>\n",
              "    <tr>\n",
              "      <th>avg_sent_sim</th>\n",
              "      <td>0.025264</td>\n",
              "    </tr>\n",
              "    <tr>\n",
              "      <th>spos_count</th>\n",
              "      <td>0.024409</td>\n",
              "    </tr>\n",
              "    <tr>\n",
              "      <th>SMOG</th>\n",
              "      <td>0.022010</td>\n",
              "    </tr>\n",
              "    <tr>\n",
              "      <th>FKE</th>\n",
              "      <td>0.021531</td>\n",
              "    </tr>\n",
              "  </tbody>\n",
              "</table>\n",
              "</div>"
            ],
            "text/plain": [
              "                    importance\n",
              "feature                       \n",
              " negative_op_count    0.085511\n",
              " sneg_count           0.042050\n",
              "avg_word_sim          0.041694\n",
              "vad_neu               0.033739\n",
              "x_y                   0.029883\n",
              "present               0.027145\n",
              "avg_sent_sim          0.025264\n",
              " spos_count           0.024409\n",
              "SMOG                  0.022010\n",
              "FKE                   0.021531"
            ]
          },
          "metadata": {
            "tags": []
          }
        },
        {
          "output_type": "stream",
          "text": [
            "LGBMClassifier  top 10 features\n",
            "in descending order of importance\n"
          ],
          "name": "stdout"
        },
        {
          "output_type": "display_data",
          "data": {
            "text/html": [
              "<div>\n",
              "<style scoped>\n",
              "    .dataframe tbody tr th:only-of-type {\n",
              "        vertical-align: middle;\n",
              "    }\n",
              "\n",
              "    .dataframe tbody tr th {\n",
              "        vertical-align: top;\n",
              "    }\n",
              "\n",
              "    .dataframe thead th {\n",
              "        text-align: right;\n",
              "    }\n",
              "</style>\n",
              "<table border=\"1\" class=\"dataframe\">\n",
              "  <thead>\n",
              "    <tr style=\"text-align: right;\">\n",
              "      <th></th>\n",
              "      <th>importance</th>\n",
              "    </tr>\n",
              "    <tr>\n",
              "      <th>feature</th>\n",
              "      <th></th>\n",
              "    </tr>\n",
              "  </thead>\n",
              "  <tbody>\n",
              "    <tr>\n",
              "      <th>avg_sent_sim</th>\n",
              "      <td>497</td>\n",
              "    </tr>\n",
              "    <tr>\n",
              "      <th>avg_word_sim</th>\n",
              "      <td>117</td>\n",
              "    </tr>\n",
              "    <tr>\n",
              "      <th>FKE</th>\n",
              "      <td>75</td>\n",
              "    </tr>\n",
              "    <tr>\n",
              "      <th>Happiness</th>\n",
              "      <td>68</td>\n",
              "    </tr>\n",
              "    <tr>\n",
              "      <th>x_y</th>\n",
              "      <td>67</td>\n",
              "    </tr>\n",
              "    <tr>\n",
              "      <th>wordlen</th>\n",
              "      <td>65</td>\n",
              "    </tr>\n",
              "    <tr>\n",
              "      <th>VBD</th>\n",
              "      <td>56</td>\n",
              "    </tr>\n",
              "    <tr>\n",
              "      <th>JJ</th>\n",
              "      <td>56</td>\n",
              "    </tr>\n",
              "    <tr>\n",
              "      <th>bias_count</th>\n",
              "      <td>50</td>\n",
              "    </tr>\n",
              "    <tr>\n",
              "      <th>AllPunc</th>\n",
              "      <td>49</td>\n",
              "    </tr>\n",
              "  </tbody>\n",
              "</table>\n",
              "</div>"
            ],
            "text/plain": [
              "              importance\n",
              "feature                 \n",
              "avg_sent_sim         497\n",
              "avg_word_sim         117\n",
              "FKE                   75\n",
              " Happiness            68\n",
              "x_y                   67\n",
              "wordlen               65\n",
              "VBD                   56\n",
              "JJ                    56\n",
              " bias_count           50\n",
              "AllPunc               49"
            ]
          },
          "metadata": {
            "tags": []
          }
        },
        {
          "output_type": "stream",
          "text": [
            "ExtraTreesClassifier  top 10 features\n",
            "in descending order of importance\n"
          ],
          "name": "stdout"
        },
        {
          "output_type": "display_data",
          "data": {
            "text/html": [
              "<div>\n",
              "<style scoped>\n",
              "    .dataframe tbody tr th:only-of-type {\n",
              "        vertical-align: middle;\n",
              "    }\n",
              "\n",
              "    .dataframe tbody tr th {\n",
              "        vertical-align: top;\n",
              "    }\n",
              "\n",
              "    .dataframe thead th {\n",
              "        text-align: right;\n",
              "    }\n",
              "</style>\n",
              "<table border=\"1\" class=\"dataframe\">\n",
              "  <thead>\n",
              "    <tr style=\"text-align: right;\">\n",
              "      <th></th>\n",
              "      <th>importance</th>\n",
              "    </tr>\n",
              "    <tr>\n",
              "      <th>feature</th>\n",
              "      <th></th>\n",
              "    </tr>\n",
              "  </thead>\n",
              "  <tbody>\n",
              "    <tr>\n",
              "      <th>avg_word_sim</th>\n",
              "      <td>0.023561</td>\n",
              "    </tr>\n",
              "    <tr>\n",
              "      <th>x_y</th>\n",
              "      <td>0.021879</td>\n",
              "    </tr>\n",
              "    <tr>\n",
              "      <th>avg_sent_sim</th>\n",
              "      <td>0.018982</td>\n",
              "    </tr>\n",
              "    <tr>\n",
              "      <th>y_2</th>\n",
              "      <td>0.018675</td>\n",
              "    </tr>\n",
              "    <tr>\n",
              "      <th>vad_neg</th>\n",
              "      <td>0.017007</td>\n",
              "    </tr>\n",
              "    <tr>\n",
              "      <th>vad_neu</th>\n",
              "      <td>0.016985</td>\n",
              "    </tr>\n",
              "    <tr>\n",
              "      <th>SMOG</th>\n",
              "      <td>0.016861</td>\n",
              "    </tr>\n",
              "    <tr>\n",
              "      <th>x_2</th>\n",
              "      <td>0.015453</td>\n",
              "    </tr>\n",
              "    <tr>\n",
              "      <th>WC</th>\n",
              "      <td>0.015289</td>\n",
              "    </tr>\n",
              "    <tr>\n",
              "      <th>FKE</th>\n",
              "      <td>0.015223</td>\n",
              "    </tr>\n",
              "  </tbody>\n",
              "</table>\n",
              "</div>"
            ],
            "text/plain": [
              "              importance\n",
              "feature                 \n",
              "avg_word_sim    0.023561\n",
              "x_y             0.021879\n",
              "avg_sent_sim    0.018982\n",
              "y_2             0.018675\n",
              "vad_neg         0.017007\n",
              "vad_neu         0.016985\n",
              "SMOG            0.016861\n",
              "x_2             0.015453\n",
              "WC              0.015289\n",
              "FKE             0.015223"
            ]
          },
          "metadata": {
            "tags": []
          }
        },
        {
          "output_type": "stream",
          "text": [
            "ExtraTreeClassifier  top 10 features\n",
            "in descending order of importance\n"
          ],
          "name": "stdout"
        },
        {
          "output_type": "display_data",
          "data": {
            "text/html": [
              "<div>\n",
              "<style scoped>\n",
              "    .dataframe tbody tr th:only-of-type {\n",
              "        vertical-align: middle;\n",
              "    }\n",
              "\n",
              "    .dataframe tbody tr th {\n",
              "        vertical-align: top;\n",
              "    }\n",
              "\n",
              "    .dataframe thead th {\n",
              "        text-align: right;\n",
              "    }\n",
              "</style>\n",
              "<table border=\"1\" class=\"dataframe\">\n",
              "  <thead>\n",
              "    <tr style=\"text-align: right;\">\n",
              "      <th></th>\n",
              "      <th>importance</th>\n",
              "    </tr>\n",
              "    <tr>\n",
              "      <th>feature</th>\n",
              "      <th></th>\n",
              "    </tr>\n",
              "  </thead>\n",
              "  <tbody>\n",
              "    <tr>\n",
              "      <th>WC</th>\n",
              "      <td>0.033103</td>\n",
              "    </tr>\n",
              "    <tr>\n",
              "      <th>avg_word_sim</th>\n",
              "      <td>0.028224</td>\n",
              "    </tr>\n",
              "    <tr>\n",
              "      <th>x_y</th>\n",
              "      <td>0.022713</td>\n",
              "    </tr>\n",
              "    <tr>\n",
              "      <th>y_2</th>\n",
              "      <td>0.021034</td>\n",
              "    </tr>\n",
              "    <tr>\n",
              "      <th>SMOG</th>\n",
              "      <td>0.019493</td>\n",
              "    </tr>\n",
              "    <tr>\n",
              "      <th>x_2</th>\n",
              "      <td>0.018002</td>\n",
              "    </tr>\n",
              "    <tr>\n",
              "      <th>negative_op_count</th>\n",
              "      <td>0.016821</td>\n",
              "    </tr>\n",
              "    <tr>\n",
              "      <th>TTR</th>\n",
              "      <td>0.016584</td>\n",
              "    </tr>\n",
              "    <tr>\n",
              "      <th>avg_sent_sim</th>\n",
              "      <td>0.016434</td>\n",
              "    </tr>\n",
              "    <tr>\n",
              "      <th>vad_neu</th>\n",
              "      <td>0.015688</td>\n",
              "    </tr>\n",
              "  </tbody>\n",
              "</table>\n",
              "</div>"
            ],
            "text/plain": [
              "                    importance\n",
              "feature                       \n",
              "WC                    0.033103\n",
              "avg_word_sim          0.028224\n",
              "x_y                   0.022713\n",
              "y_2                   0.021034\n",
              "SMOG                  0.019493\n",
              "x_2                   0.018002\n",
              " negative_op_count    0.016821\n",
              " TTR                  0.016584\n",
              "avg_sent_sim          0.016434\n",
              "vad_neu               0.015688"
            ]
          },
          "metadata": {
            "tags": []
          }
        },
        {
          "output_type": "stream",
          "text": [
            "DecisionTreeClassifier  top 10 features\n",
            "in descending order of importance\n"
          ],
          "name": "stdout"
        },
        {
          "output_type": "display_data",
          "data": {
            "text/html": [
              "<div>\n",
              "<style scoped>\n",
              "    .dataframe tbody tr th:only-of-type {\n",
              "        vertical-align: middle;\n",
              "    }\n",
              "\n",
              "    .dataframe tbody tr th {\n",
              "        vertical-align: top;\n",
              "    }\n",
              "\n",
              "    .dataframe thead th {\n",
              "        text-align: right;\n",
              "    }\n",
              "</style>\n",
              "<table border=\"1\" class=\"dataframe\">\n",
              "  <thead>\n",
              "    <tr style=\"text-align: right;\">\n",
              "      <th></th>\n",
              "      <th>importance</th>\n",
              "    </tr>\n",
              "    <tr>\n",
              "      <th>feature</th>\n",
              "      <th></th>\n",
              "    </tr>\n",
              "  </thead>\n",
              "  <tbody>\n",
              "    <tr>\n",
              "      <th>negative_op_count</th>\n",
              "      <td>0.080343</td>\n",
              "    </tr>\n",
              "    <tr>\n",
              "      <th>y_2</th>\n",
              "      <td>0.056420</td>\n",
              "    </tr>\n",
              "    <tr>\n",
              "      <th>avg_sent_sim</th>\n",
              "      <td>0.046990</td>\n",
              "    </tr>\n",
              "    <tr>\n",
              "      <th>x_y</th>\n",
              "      <td>0.041337</td>\n",
              "    </tr>\n",
              "    <tr>\n",
              "      <th>avg_word_sim</th>\n",
              "      <td>0.038339</td>\n",
              "    </tr>\n",
              "    <tr>\n",
              "      <th>x_2</th>\n",
              "      <td>0.036719</td>\n",
              "    </tr>\n",
              "    <tr>\n",
              "      <th>FKE</th>\n",
              "      <td>0.034125</td>\n",
              "    </tr>\n",
              "    <tr>\n",
              "      <th>vad_neu</th>\n",
              "      <td>0.022612</td>\n",
              "    </tr>\n",
              "    <tr>\n",
              "      <th>Happiness</th>\n",
              "      <td>0.021328</td>\n",
              "    </tr>\n",
              "    <tr>\n",
              "      <th>funct</th>\n",
              "      <td>0.016971</td>\n",
              "    </tr>\n",
              "  </tbody>\n",
              "</table>\n",
              "</div>"
            ],
            "text/plain": [
              "                    importance\n",
              "feature                       \n",
              " negative_op_count    0.080343\n",
              "y_2                   0.056420\n",
              "avg_sent_sim          0.046990\n",
              "x_y                   0.041337\n",
              "avg_word_sim          0.038339\n",
              "x_2                   0.036719\n",
              "FKE                   0.034125\n",
              "vad_neu               0.022612\n",
              " Happiness            0.021328\n",
              "funct                 0.016971"
            ]
          },
          "metadata": {
            "tags": []
          }
        },
        {
          "output_type": "stream",
          "text": [
            "GradientBoostingClassifier  top 10 features\n",
            "in descending order of importance\n"
          ],
          "name": "stdout"
        },
        {
          "output_type": "display_data",
          "data": {
            "text/html": [
              "<div>\n",
              "<style scoped>\n",
              "    .dataframe tbody tr th:only-of-type {\n",
              "        vertical-align: middle;\n",
              "    }\n",
              "\n",
              "    .dataframe tbody tr th {\n",
              "        vertical-align: top;\n",
              "    }\n",
              "\n",
              "    .dataframe thead th {\n",
              "        text-align: right;\n",
              "    }\n",
              "</style>\n",
              "<table border=\"1\" class=\"dataframe\">\n",
              "  <thead>\n",
              "    <tr style=\"text-align: right;\">\n",
              "      <th></th>\n",
              "      <th>importance</th>\n",
              "    </tr>\n",
              "    <tr>\n",
              "      <th>feature</th>\n",
              "      <th></th>\n",
              "    </tr>\n",
              "  </thead>\n",
              "  <tbody>\n",
              "    <tr>\n",
              "      <th>avg_sent_sim</th>\n",
              "      <td>0.137570</td>\n",
              "    </tr>\n",
              "    <tr>\n",
              "      <th>y_2</th>\n",
              "      <td>0.126994</td>\n",
              "    </tr>\n",
              "    <tr>\n",
              "      <th>avg_word_sim</th>\n",
              "      <td>0.103143</td>\n",
              "    </tr>\n",
              "    <tr>\n",
              "      <th>negative_op_count</th>\n",
              "      <td>0.089139</td>\n",
              "    </tr>\n",
              "    <tr>\n",
              "      <th>x_2</th>\n",
              "      <td>0.064909</td>\n",
              "    </tr>\n",
              "    <tr>\n",
              "      <th>vad_neu</th>\n",
              "      <td>0.064594</td>\n",
              "    </tr>\n",
              "    <tr>\n",
              "      <th>x_y</th>\n",
              "      <td>0.046431</td>\n",
              "    </tr>\n",
              "    <tr>\n",
              "      <th>sneg_count</th>\n",
              "      <td>0.039040</td>\n",
              "    </tr>\n",
              "    <tr>\n",
              "      <th>FKE</th>\n",
              "      <td>0.032633</td>\n",
              "    </tr>\n",
              "    <tr>\n",
              "      <th>VBD</th>\n",
              "      <td>0.018400</td>\n",
              "    </tr>\n",
              "  </tbody>\n",
              "</table>\n",
              "</div>"
            ],
            "text/plain": [
              "                    importance\n",
              "feature                       \n",
              "avg_sent_sim          0.137570\n",
              "y_2                   0.126994\n",
              "avg_word_sim          0.103143\n",
              " negative_op_count    0.089139\n",
              "x_2                   0.064909\n",
              "vad_neu               0.064594\n",
              "x_y                   0.046431\n",
              " sneg_count           0.039040\n",
              "FKE                   0.032633\n",
              "VBD                   0.018400"
            ]
          },
          "metadata": {
            "tags": []
          }
        },
        {
          "output_type": "stream",
          "text": [
            "AdaBoostClassifier  top 10 features\n",
            "in descending order of importance\n"
          ],
          "name": "stdout"
        },
        {
          "output_type": "display_data",
          "data": {
            "text/html": [
              "<div>\n",
              "<style scoped>\n",
              "    .dataframe tbody tr th:only-of-type {\n",
              "        vertical-align: middle;\n",
              "    }\n",
              "\n",
              "    .dataframe tbody tr th {\n",
              "        vertical-align: top;\n",
              "    }\n",
              "\n",
              "    .dataframe thead th {\n",
              "        text-align: right;\n",
              "    }\n",
              "</style>\n",
              "<table border=\"1\" class=\"dataframe\">\n",
              "  <thead>\n",
              "    <tr style=\"text-align: right;\">\n",
              "      <th></th>\n",
              "      <th>importance</th>\n",
              "    </tr>\n",
              "    <tr>\n",
              "      <th>feature</th>\n",
              "      <th></th>\n",
              "    </tr>\n",
              "  </thead>\n",
              "  <tbody>\n",
              "    <tr>\n",
              "      <th>y_2</th>\n",
              "      <td>0.16</td>\n",
              "    </tr>\n",
              "    <tr>\n",
              "      <th>avg_sent_sim</th>\n",
              "      <td>0.12</td>\n",
              "    </tr>\n",
              "    <tr>\n",
              "      <th>x_2</th>\n",
              "      <td>0.06</td>\n",
              "    </tr>\n",
              "    <tr>\n",
              "      <th>excl</th>\n",
              "      <td>0.04</td>\n",
              "    </tr>\n",
              "    <tr>\n",
              "      <th>negative_op_count</th>\n",
              "      <td>0.04</td>\n",
              "    </tr>\n",
              "    <tr>\n",
              "      <th>positive_op_count</th>\n",
              "      <td>0.04</td>\n",
              "    </tr>\n",
              "    <tr>\n",
              "      <th>CD</th>\n",
              "      <td>0.04</td>\n",
              "    </tr>\n",
              "    <tr>\n",
              "      <th>FKE</th>\n",
              "      <td>0.04</td>\n",
              "    </tr>\n",
              "    <tr>\n",
              "      <th>preps</th>\n",
              "      <td>0.02</td>\n",
              "    </tr>\n",
              "    <tr>\n",
              "      <th>number</th>\n",
              "      <td>0.02</td>\n",
              "    </tr>\n",
              "  </tbody>\n",
              "</table>\n",
              "</div>"
            ],
            "text/plain": [
              "                    importance\n",
              "feature                       \n",
              "y_2                       0.16\n",
              "avg_sent_sim              0.12\n",
              "x_2                       0.06\n",
              "excl                      0.04\n",
              " negative_op_count        0.04\n",
              " positive_op_count        0.04\n",
              "CD                        0.04\n",
              "FKE                       0.04\n",
              "preps                     0.02\n",
              "number                    0.02"
            ]
          },
          "metadata": {
            "tags": []
          }
        },
        {
          "output_type": "stream",
          "text": [
            "RandomForestClassifier  top 10 features\n",
            "in descending order of importance\n"
          ],
          "name": "stdout"
        },
        {
          "output_type": "display_data",
          "data": {
            "text/html": [
              "<div>\n",
              "<style scoped>\n",
              "    .dataframe tbody tr th:only-of-type {\n",
              "        vertical-align: middle;\n",
              "    }\n",
              "\n",
              "    .dataframe tbody tr th {\n",
              "        vertical-align: top;\n",
              "    }\n",
              "\n",
              "    .dataframe thead th {\n",
              "        text-align: right;\n",
              "    }\n",
              "</style>\n",
              "<table border=\"1\" class=\"dataframe\">\n",
              "  <thead>\n",
              "    <tr style=\"text-align: right;\">\n",
              "      <th></th>\n",
              "      <th>importance</th>\n",
              "    </tr>\n",
              "    <tr>\n",
              "      <th>feature</th>\n",
              "      <th></th>\n",
              "    </tr>\n",
              "  </thead>\n",
              "  <tbody>\n",
              "    <tr>\n",
              "      <th>avg_word_sim</th>\n",
              "      <td>0.038906</td>\n",
              "    </tr>\n",
              "    <tr>\n",
              "      <th>y_2</th>\n",
              "      <td>0.038361</td>\n",
              "    </tr>\n",
              "    <tr>\n",
              "      <th>avg_sent_sim</th>\n",
              "      <td>0.038328</td>\n",
              "    </tr>\n",
              "    <tr>\n",
              "      <th>x_2</th>\n",
              "      <td>0.037543</td>\n",
              "    </tr>\n",
              "    <tr>\n",
              "      <th>x_y</th>\n",
              "      <td>0.036753</td>\n",
              "    </tr>\n",
              "    <tr>\n",
              "      <th>vad_neu</th>\n",
              "      <td>0.023181</td>\n",
              "    </tr>\n",
              "    <tr>\n",
              "      <th>FKE</th>\n",
              "      <td>0.022651</td>\n",
              "    </tr>\n",
              "    <tr>\n",
              "      <th>negative_op_count</th>\n",
              "      <td>0.021305</td>\n",
              "    </tr>\n",
              "    <tr>\n",
              "      <th>vad_neg</th>\n",
              "      <td>0.017512</td>\n",
              "    </tr>\n",
              "    <tr>\n",
              "      <th>Happiness</th>\n",
              "      <td>0.017319</td>\n",
              "    </tr>\n",
              "  </tbody>\n",
              "</table>\n",
              "</div>"
            ],
            "text/plain": [
              "                    importance\n",
              "feature                       \n",
              "avg_word_sim          0.038906\n",
              "y_2                   0.038361\n",
              "avg_sent_sim          0.038328\n",
              "x_2                   0.037543\n",
              "x_y                   0.036753\n",
              "vad_neu               0.023181\n",
              "FKE                   0.022651\n",
              " negative_op_count    0.021305\n",
              "vad_neg               0.017512\n",
              " Happiness            0.017319"
            ]
          },
          "metadata": {
            "tags": []
          }
        },
        {
          "output_type": "display_data",
          "data": {
            "image/png": "[encoded data removed]",
            "text/plain": [
              "<Figure size 864x504 with 1 Axes>"
            ]
          },
          "metadata": {
            "tags": [],
            "needs_background": "light"
          }
        },
        {
          "output_type": "display_data",
          "data": {
            "image/png": "[encoded data removed]",
            "text/plain": [
              "<Figure size 864x504 with 1 Axes>"
            ]
          },
          "metadata": {
            "tags": [],
            "needs_background": "light"
          }
        },
        {
          "output_type": "display_data",
          "data": {
            "image/png": "[encoded data removed]",
            "text/plain": [
              "<Figure size 864x504 with 1 Axes>"
            ]
          },
          "metadata": {
            "tags": [],
            "needs_background": "light"
          }
        },
        {
          "output_type": "display_data",
          "data": {
            "image/png": "[encoded data removed]",
            "text/plain": [
              "<Figure size 864x504 with 1 Axes>"
            ]
          },
          "metadata": {
            "tags": [],
            "needs_background": "light"
          }
        },
        {
          "output_type": "display_data",
          "data": {
            "image/png": "[encoded data removed]",
            "text/plain": [
              "<Figure size 864x504 with 1 Axes>"
            ]
          },
          "metadata": {
            "tags": [],
            "needs_background": "light"
          }
        },
        {
          "output_type": "display_data",
          "data": {
            "image/png": "[encoded data removed]",
            "text/plain": [
              "<Figure size 864x504 with 1 Axes>"
            ]
          },
          "metadata": {
            "tags": [],
            "needs_background": "light"
          }
        },
        {
          "output_type": "display_data",
          "data": {
            "image/png": "[encoded data removed]",
            "text/plain": [
              "<Figure size 864x504 with 1 Axes>"
            ]
          },
          "metadata": {
            "tags": [],
            "needs_background": "light"
          }
        },
        {
          "output_type": "display_data",
          "data": {
            "image/png": "[encoded data removed]",
            "text/plain": [
              "<Figure size 864x504 with 1 Axes>"
            ]
          },
          "metadata": {
            "tags": [],
            "needs_background": "light"
          }
        }
      ]
    },
    {
      "cell_type": "code",
      "metadata": {
        "id": "y5Rdwukz4vSf",
        "colab_type": "code",
        "colab": {}
      },
      "source": [
        "# ,' Happiness', 'x_y', 'wordlen'"
      ],
      "execution_count": 0,
      "outputs": []
    },
    {
      "cell_type": "code",
      "metadata": {
        "id": "33_nRAKEqFan",
        "colab_type": "code",
        "colab": {}
      },
      "source": [
        "x_updated = x[['avg_sent_sim', 'x_y', 'y_2', 'FKE','vad_neu', ' negative_op_count','x_2','avg_word_sim',' Happiness', 'SMOG']]"
      ],
      "execution_count": 0,
      "outputs": []
    },
    {
      "cell_type": "code",
      "metadata": {
        "id": "c8jzVeHlvSPw",
        "colab_type": "code",
        "outputId": "73ac1d53-896e-4c33-a45f-483d507b8e06",
        "colab": {
          "base_uri": "https://localhost:8080/",
          "height": 200
        }
      },
      "source": [
        "x_updated.head()"
      ],
      "execution_count": 21,
      "outputs": [
        {
          "output_type": "execute_result",
          "data": {
            "text/html": [
              "<div>\n",
              "<style scoped>\n",
              "    .dataframe tbody tr th:only-of-type {\n",
              "        vertical-align: middle;\n",
              "    }\n",
              "\n",
              "    .dataframe tbody tr th {\n",
              "        vertical-align: top;\n",
              "    }\n",
              "\n",
              "    .dataframe thead th {\n",
              "        text-align: right;\n",
              "    }\n",
              "</style>\n",
              "<table border=\"1\" class=\"dataframe\">\n",
              "  <thead>\n",
              "    <tr style=\"text-align: right;\">\n",
              "      <th></th>\n",
              "      <th>avg_sent_sim</th>\n",
              "      <th>x_y</th>\n",
              "      <th>y_2</th>\n",
              "      <th>FKE</th>\n",
              "      <th>vad_neu</th>\n",
              "      <th>negative_op_count</th>\n",
              "      <th>x_2</th>\n",
              "      <th>avg_word_sim</th>\n",
              "      <th>Happiness</th>\n",
              "      <th>SMOG</th>\n",
              "    </tr>\n",
              "  </thead>\n",
              "  <tbody>\n",
              "    <tr>\n",
              "      <th>0</th>\n",
              "      <td>0.771643</td>\n",
              "      <td>0.101572</td>\n",
              "      <td>0.595432</td>\n",
              "      <td>17.6067</td>\n",
              "      <td>0.833</td>\n",
              "      <td>0.0</td>\n",
              "      <td>0.017327</td>\n",
              "      <td>0.131630</td>\n",
              "      <td>5.258182</td>\n",
              "      <td>12.486833</td>\n",
              "    </tr>\n",
              "    <tr>\n",
              "      <th>1</th>\n",
              "      <td>0.771643</td>\n",
              "      <td>0.317258</td>\n",
              "      <td>0.595432</td>\n",
              "      <td>11.2264</td>\n",
              "      <td>0.782</td>\n",
              "      <td>0.0</td>\n",
              "      <td>0.169041</td>\n",
              "      <td>0.411146</td>\n",
              "      <td>5.354286</td>\n",
              "      <td>16.416408</td>\n",
              "    </tr>\n",
              "    <tr>\n",
              "      <th>2</th>\n",
              "      <td>0.771643</td>\n",
              "      <td>0.370838</td>\n",
              "      <td>0.595432</td>\n",
              "      <td>1.3133</td>\n",
              "      <td>1.000</td>\n",
              "      <td>0.0</td>\n",
              "      <td>0.230960</td>\n",
              "      <td>0.480583</td>\n",
              "      <td>5.020000</td>\n",
              "      <td>8.477226</td>\n",
              "    </tr>\n",
              "    <tr>\n",
              "      <th>3</th>\n",
              "      <td>0.771643</td>\n",
              "      <td>0.713243</td>\n",
              "      <td>0.595432</td>\n",
              "      <td>13.2876</td>\n",
              "      <td>0.882</td>\n",
              "      <td>0.0</td>\n",
              "      <td>0.854363</td>\n",
              "      <td>0.924318</td>\n",
              "      <td>5.049630</td>\n",
              "      <td>8.477226</td>\n",
              "    </tr>\n",
              "    <tr>\n",
              "      <th>4</th>\n",
              "      <td>0.771643</td>\n",
              "      <td>2.028637</td>\n",
              "      <td>0.595432</td>\n",
              "      <td>15.3533</td>\n",
              "      <td>0.785</td>\n",
              "      <td>0.0</td>\n",
              "      <td>6.911558</td>\n",
              "      <td>2.628984</td>\n",
              "      <td>5.317241</td>\n",
              "      <td>10.745967</td>\n",
              "    </tr>\n",
              "  </tbody>\n",
              "</table>\n",
              "</div>"
            ],
            "text/plain": [
              "   avg_sent_sim       x_y       y_2  ...  avg_word_sim   Happiness       SMOG\n",
              "0      0.771643  0.101572  0.595432  ...      0.131630    5.258182  12.486833\n",
              "1      0.771643  0.317258  0.595432  ...      0.411146    5.354286  16.416408\n",
              "2      0.771643  0.370838  0.595432  ...      0.480583    5.020000   8.477226\n",
              "3      0.771643  0.713243  0.595432  ...      0.924318    5.049630   8.477226\n",
              "4      0.771643  2.028637  0.595432  ...      2.628984    5.317241  10.745967\n",
              "\n",
              "[5 rows x 10 columns]"
            ]
          },
          "metadata": {
            "tags": []
          },
          "execution_count": 21
        }
      ]
    },
    {
      "cell_type": "code",
      "metadata": {
        "id": "N44eiO3kvcGo",
        "colab_type": "code",
        "colab": {}
      },
      "source": [
        "x_train_updated, x_test_updated, y_train_updated, y_test_updated = model_selection.train_test_split(x_updated, y, test_size=0.2,random_state = 42, stratify = y)"
      ],
      "execution_count": 0,
      "outputs": []
    },
    {
      "cell_type": "code",
      "metadata": {
        "id": "wagptmdpnlpV",
        "colab_type": "code",
        "colab": {
          "base_uri": "https://localhost:8080/",
          "height": 1000
        },
        "outputId": "6f9df1ce-460d-4024-c9a0-a502b4148f1b"
      },
      "source": [
        "accuracies_updated =[]\n",
        "f1scores_updated=[]\n",
        "for clf in clfs:\n",
        "    try:\n",
        "      accuracy, f1score = computeScores(clf, x_train_updated, y_train_updated, x_test_updated, y_test_updated)\n",
        "      accuracies_updated.append(accuracy)\n",
        "      f1scores_updated.append(f1score)\n",
        "    except AttributeError as e:\n",
        "      print(e)"
      ],
      "execution_count": 28,
      "outputs": [
        {
          "output_type": "stream",
          "text": [
            "XGBClassifier\n",
            "Accuracy:  0.7255400254129606\n",
            "F1 Score:  0.7223650385604112\n",
            "Confusion_matrix:\n",
            "XGBClassifier  Classification report:\n",
            "              precision    recall  f1-score   support\n",
            "\n",
            "          no      0.720     0.737     0.729       787\n",
            "         yes      0.731     0.714     0.722       787\n",
            "\n",
            "    accuracy                          0.726      1574\n",
            "   macro avg      0.726     0.726     0.726      1574\n",
            "weighted avg      0.726     0.726     0.726      1574\n",
            "\n"
          ],
          "name": "stdout"
        },
        {
          "output_type": "display_data",
          "data": {
            "image/png": "[encoded data removed]",
            "text/plain": [
              "<Figure size 504x504 with 2 Axes>"
            ]
          },
          "metadata": {
            "tags": [],
            "needs_background": "light"
          }
        },
        {
          "output_type": "stream",
          "text": [
            "-------------------------------------------------------------\n",
            "LGBMClassifier\n",
            "Accuracy:  0.8005082592121983\n",
            "F1 Score:  0.7961038961038962\n",
            "Confusion_matrix:\n",
            "LGBMClassifier  Classification report:\n",
            "              precision    recall  f1-score   support\n",
            "\n",
            "          no      0.788     0.822     0.805       787\n",
            "         yes      0.814     0.779     0.796       787\n",
            "\n",
            "    accuracy                          0.801      1574\n",
            "   macro avg      0.801     0.801     0.800      1574\n",
            "weighted avg      0.801     0.801     0.800      1574\n",
            "\n"
          ],
          "name": "stdout"
        },
        {
          "output_type": "display_data",
          "data": {
            "image/png": "[encoded data removed]",
            "text/plain": [
              "<Figure size 504x504 with 2 Axes>"
            ]
          },
          "metadata": {
            "tags": [],
            "needs_background": "light"
          }
        },
        {
          "output_type": "stream",
          "text": [
            "-------------------------------------------------------------\n",
            "ExtraTreesClassifier\n",
            "Accuracy:  0.7121982210927573\n",
            "F1 Score:  0.7138344914718888\n",
            "Confusion_matrix:\n",
            "ExtraTreesClassifier  Classification report:\n",
            "              precision    recall  f1-score   support\n",
            "\n",
            "          no      0.715     0.706     0.711       787\n",
            "         yes      0.710     0.718     0.714       787\n",
            "\n",
            "    accuracy                          0.712      1574\n",
            "   macro avg      0.712     0.712     0.712      1574\n",
            "weighted avg      0.712     0.712     0.712      1574\n",
            "\n"
          ],
          "name": "stdout"
        },
        {
          "output_type": "display_data",
          "data": {
            "image/png": "[encoded data removed]",
            "text/plain": [
              "<Figure size 504x504 with 2 Axes>"
            ]
          },
          "metadata": {
            "tags": [],
            "needs_background": "light"
          }
        },
        {
          "output_type": "stream",
          "text": [
            "-------------------------------------------------------------\n",
            "ExtraTreeClassifier\n",
            "Accuracy:  0.6359593392630242\n",
            "F1 Score:  0.6333973128598848\n",
            "Confusion_matrix:\n",
            "ExtraTreeClassifier  Classification report:\n",
            "              precision    recall  f1-score   support\n",
            "\n",
            "          no      0.634     0.643     0.638       787\n",
            "         yes      0.638     0.629     0.633       787\n",
            "\n",
            "    accuracy                          0.636      1574\n",
            "   macro avg      0.636     0.636     0.636      1574\n",
            "weighted avg      0.636     0.636     0.636      1574\n",
            "\n"
          ],
          "name": "stdout"
        },
        {
          "output_type": "display_data",
          "data": {
            "image/png": "[encoded data removed]",
            "text/plain": [
              "<Figure size 504x504 with 2 Axes>"
            ]
          },
          "metadata": {
            "tags": [],
            "needs_background": "light"
          }
        },
        {
          "output_type": "stream",
          "text": [
            "-------------------------------------------------------------\n",
            "DecisionTreeClassifier\n",
            "Accuracy:  0.6537484116899619\n",
            "F1 Score:  0.6508648302370275\n",
            "Confusion_matrix:\n",
            "DecisionTreeClassifier  Classification report:\n",
            "              precision    recall  f1-score   support\n",
            "\n",
            "          no      0.651     0.662     0.657       787\n",
            "         yes      0.656     0.645     0.651       787\n",
            "\n",
            "    accuracy                          0.654      1574\n",
            "   macro avg      0.654     0.654     0.654      1574\n",
            "weighted avg      0.654     0.654     0.654      1574\n",
            "\n"
          ],
          "name": "stdout"
        },
        {
          "output_type": "display_data",
          "data": {
            "image/png": "[encoded data removed]",
            "text/plain": [
              "<Figure size 504x504 with 2 Axes>"
            ]
          },
          "metadata": {
            "tags": [],
            "needs_background": "light"
          }
        },
        {
          "output_type": "stream",
          "text": [
            "-------------------------------------------------------------\n",
            "GradientBoostingClassifier\n",
            "Accuracy:  0.7344345616264295\n",
            "F1 Score:  0.732051282051282\n",
            "Confusion_matrix:\n",
            "GradientBoostingClassifier  Classification report:\n",
            "              precision    recall  f1-score   support\n",
            "\n",
            "          no      0.730     0.743     0.737       787\n",
            "         yes      0.739     0.726     0.732       787\n",
            "\n",
            "    accuracy                          0.734      1574\n",
            "   macro avg      0.735     0.734     0.734      1574\n",
            "weighted avg      0.735     0.734     0.734      1574\n",
            "\n"
          ],
          "name": "stdout"
        },
        {
          "output_type": "display_data",
          "data": {
            "image/png": "[encoded data removed]",
            "text/plain": [
              "<Figure size 504x504 with 2 Axes>"
            ]
          },
          "metadata": {
            "tags": [],
            "needs_background": "light"
          }
        },
        {
          "output_type": "stream",
          "text": [
            "-------------------------------------------------------------\n",
            "AdaBoostClassifier\n",
            "Accuracy:  0.7033036848792884\n",
            "F1 Score:  0.698515171078115\n",
            "Confusion_matrix:\n",
            "AdaBoostClassifier  Classification report:\n",
            "              precision    recall  f1-score   support\n",
            "\n",
            "          no      0.697     0.719     0.708       787\n",
            "         yes      0.710     0.687     0.699       787\n",
            "\n",
            "    accuracy                          0.703      1574\n",
            "   macro avg      0.704     0.703     0.703      1574\n",
            "weighted avg      0.704     0.703     0.703      1574\n",
            "\n"
          ],
          "name": "stdout"
        },
        {
          "output_type": "display_data",
          "data": {
            "image/png": "[encoded data removed]",
            "text/plain": [
              "<Figure size 504x504 with 2 Axes>"
            ]
          },
          "metadata": {
            "tags": [],
            "needs_background": "light"
          }
        },
        {
          "output_type": "stream",
          "text": [
            "-------------------------------------------------------------\n",
            "RandomForestClassifier\n",
            "Accuracy:  0.7090216010165185\n",
            "F1 Score:  0.7060333761232349\n",
            "Confusion_matrix:\n",
            "RandomForestClassifier  Classification report:\n",
            "              precision    recall  f1-score   support\n",
            "\n",
            "          no      0.705     0.719     0.712       787\n",
            "         yes      0.713     0.699     0.706       787\n",
            "\n",
            "    accuracy                          0.709      1574\n",
            "   macro avg      0.709     0.709     0.709      1574\n",
            "weighted avg      0.709     0.709     0.709      1574\n",
            "\n"
          ],
          "name": "stdout"
        },
        {
          "output_type": "display_data",
          "data": {
            "image/png": "[encoded data removed]",
            "text/plain": [
              "<Figure size 504x504 with 2 Axes>"
            ]
          },
          "metadata": {
            "tags": [],
            "needs_background": "light"
          }
        },
        {
          "output_type": "stream",
          "text": [
            "-------------------------------------------------------------\n"
          ],
          "name": "stdout"
        }
      ]
    },
    {
      "cell_type": "code",
      "metadata": {
        "id": "3skobhXYtvLq",
        "colab_type": "code",
        "colab": {
          "base_uri": "https://localhost:8080/",
          "height": 200
        },
        "outputId": "f0aa7c6d-1ef2-41c4-f67b-9add8798ab49"
      },
      "source": [
        "results_updated = {}\n",
        "results_updated['Classifier'] = clf_names\n",
        "results_updated['Accuracy'] = accuracies_updated\n",
        "results_updated['F1 Scores'] = f1scores_updated\n",
        "\n",
        "df_result_updated = pd.DataFrame.from_dict(results_updated)\n",
        "df_result_updated.head()"
      ],
      "execution_count": 33,
      "outputs": [
        {
          "output_type": "execute_result",
          "data": {
            "text/html": [
              "<div>\n",
              "<style scoped>\n",
              "    .dataframe tbody tr th:only-of-type {\n",
              "        vertical-align: middle;\n",
              "    }\n",
              "\n",
              "    .dataframe tbody tr th {\n",
              "        vertical-align: top;\n",
              "    }\n",
              "\n",
              "    .dataframe thead th {\n",
              "        text-align: right;\n",
              "    }\n",
              "</style>\n",
              "<table border=\"1\" class=\"dataframe\">\n",
              "  <thead>\n",
              "    <tr style=\"text-align: right;\">\n",
              "      <th></th>\n",
              "      <th>Classifier</th>\n",
              "      <th>Accuracy</th>\n",
              "      <th>F1 Scores</th>\n",
              "    </tr>\n",
              "  </thead>\n",
              "  <tbody>\n",
              "    <tr>\n",
              "      <th>0</th>\n",
              "      <td>XGBClassifier</td>\n",
              "      <td>0.725540</td>\n",
              "      <td>0.722365</td>\n",
              "    </tr>\n",
              "    <tr>\n",
              "      <th>1</th>\n",
              "      <td>LGBMClassifier</td>\n",
              "      <td>0.800508</td>\n",
              "      <td>0.796104</td>\n",
              "    </tr>\n",
              "    <tr>\n",
              "      <th>2</th>\n",
              "      <td>ExtraTreesClassifier</td>\n",
              "      <td>0.712198</td>\n",
              "      <td>0.713834</td>\n",
              "    </tr>\n",
              "    <tr>\n",
              "      <th>3</th>\n",
              "      <td>ExtraTreeClassifier</td>\n",
              "      <td>0.635959</td>\n",
              "      <td>0.633397</td>\n",
              "    </tr>\n",
              "    <tr>\n",
              "      <th>4</th>\n",
              "      <td>DecisionTreeClassifier</td>\n",
              "      <td>0.653748</td>\n",
              "      <td>0.650865</td>\n",
              "    </tr>\n",
              "  </tbody>\n",
              "</table>\n",
              "</div>"
            ],
            "text/plain": [
              "               Classifier  Accuracy  F1 Scores\n",
              "0           XGBClassifier  0.725540   0.722365\n",
              "1          LGBMClassifier  0.800508   0.796104\n",
              "2    ExtraTreesClassifier  0.712198   0.713834\n",
              "3     ExtraTreeClassifier  0.635959   0.633397\n",
              "4  DecisionTreeClassifier  0.653748   0.650865"
            ]
          },
          "metadata": {
            "tags": []
          },
          "execution_count": 33
        }
      ]
    },
    {
      "cell_type": "code",
      "metadata": {
        "id": "4q65U7awuHPL",
        "colab_type": "code",
        "colab": {
          "base_uri": "https://localhost:8080/",
          "height": 404
        },
        "outputId": "630428c5-14e0-4e27-e9a0-5c050cb68338"
      },
      "source": [
        "g = sns.catplot(x=\"Classifier\", y=\"Accuracy\",kind='bar',data=df_result_updated,palette='summer')\n",
        "\n",
        "g.fig.autofmt_xdate()"
      ],
      "execution_count": 38,
      "outputs": [
        {
          "output_type": "display_data",
          "data": {
            "image/png": "[encoded data removed]",
            "text/plain": [
              "<Figure size 360x360 with 1 Axes>"
            ]
          },
          "metadata": {
            "tags": [],
            "needs_background": "light"
          }
        }
      ]
    },
    {
      "cell_type": "code",
      "metadata": {
        "id": "1tT-ncyDujeb",
        "colab_type": "code",
        "colab": {}
      },
      "source": [
        "g = "
      ],
      "execution_count": 0,
      "outputs": []
    },
    {
      "cell_type": "code",
      "metadata": {
        "id": "zApMoTwrt_Ez",
        "colab_type": "code",
        "colab": {
          "base_uri": "https://localhost:8080/",
          "height": 404
        },
        "outputId": "6ff66d91-e332-486a-9f82-1d302676a388"
      },
      "source": [
        "g = sns.catplot(x=\"Classifier\", y=\"Accuracy\",kind='bar',data=df_result_updated,palette='summer')\n",
        "\n",
        "g.fig.autofmt_xdate()"
      ],
      "execution_count": 36,
      "outputs": [
        {
          "output_type": "display_data",
          "data": {
            "image/png": "[encoded data removed]",
            "text/plain": [
              "<Figure size 360x360 with 1 Axes>"
            ]
          },
          "metadata": {
            "tags": [],
            "needs_background": "light"
          }
        }
      ]
    },
    {
      "cell_type": "code",
      "metadata": {
        "id": "RLTz53qdyDZD",
        "colab_type": "code",
        "colab": {}
      },
      "source": [
        "combined = {}\n",
        "combined['Classifier'] = []\n",
        "combined['Accuracy'] = []\n",
        "combined['F1 Score'] = []\n",
        "combined['Features'] = []\n",
        "\n",
        "for i in range(len(accuracies)):\n",
        "  combined['Classifier'].append(clf_names[i])\n",
        "  combined['Accuracy'].append(accuracies[i])\n",
        "  combined['F1 Score'].append(f1scores[i])\n",
        "  combined['Features'].append('All Features')\n",
        "\n",
        "  combined['Classifier'].append(clf_names[i])\n",
        "  combined['Accuracy'].append(accuracies_updated[i])\n",
        "  combined['F1 Score'].append(f1scores_updated[i])\n",
        "  combined['Features'].append('Top Contributing Features')\n"
      ],
      "execution_count": 0,
      "outputs": []
    },
    {
      "cell_type": "code",
      "metadata": {
        "id": "jq3FEEvQzgO6",
        "colab_type": "code",
        "colab": {
          "base_uri": "https://localhost:8080/",
          "height": 200
        },
        "outputId": "80263f85-462d-4913-c978-629fd88db3ca"
      },
      "source": [
        "df_comparison = pd.DataFrame.from_dict(combined)\n",
        "df_comparison.head()"
      ],
      "execution_count": 51,
      "outputs": [
        {
          "output_type": "execute_result",
          "data": {
            "text/html": [
              "<div>\n",
              "<style scoped>\n",
              "    .dataframe tbody tr th:only-of-type {\n",
              "        vertical-align: middle;\n",
              "    }\n",
              "\n",
              "    .dataframe tbody tr th {\n",
              "        vertical-align: top;\n",
              "    }\n",
              "\n",
              "    .dataframe thead th {\n",
              "        text-align: right;\n",
              "    }\n",
              "</style>\n",
              "<table border=\"1\" class=\"dataframe\">\n",
              "  <thead>\n",
              "    <tr style=\"text-align: right;\">\n",
              "      <th></th>\n",
              "      <th>Classifier</th>\n",
              "      <th>Accuracy</th>\n",
              "      <th>F1 Score</th>\n",
              "      <th>Features</th>\n",
              "    </tr>\n",
              "  </thead>\n",
              "  <tbody>\n",
              "    <tr>\n",
              "      <th>0</th>\n",
              "      <td>XGBClassifier</td>\n",
              "      <td>0.709657</td>\n",
              "      <td>0.708360</td>\n",
              "      <td>All Features</td>\n",
              "    </tr>\n",
              "    <tr>\n",
              "      <th>1</th>\n",
              "      <td>XGBClassifier</td>\n",
              "      <td>0.725540</td>\n",
              "      <td>0.722365</td>\n",
              "      <td>Top Contributing Features</td>\n",
              "    </tr>\n",
              "    <tr>\n",
              "      <th>2</th>\n",
              "      <td>LGBMClassifier</td>\n",
              "      <td>0.768107</td>\n",
              "      <td>0.766773</td>\n",
              "      <td>All Features</td>\n",
              "    </tr>\n",
              "    <tr>\n",
              "      <th>3</th>\n",
              "      <td>LGBMClassifier</td>\n",
              "      <td>0.800508</td>\n",
              "      <td>0.796104</td>\n",
              "      <td>Top Contributing Features</td>\n",
              "    </tr>\n",
              "    <tr>\n",
              "      <th>4</th>\n",
              "      <td>ExtraTreesClassifier</td>\n",
              "      <td>0.700127</td>\n",
              "      <td>0.706468</td>\n",
              "      <td>All Features</td>\n",
              "    </tr>\n",
              "  </tbody>\n",
              "</table>\n",
              "</div>"
            ],
            "text/plain": [
              "             Classifier  Accuracy  F1 Score                   Features\n",
              "0         XGBClassifier  0.709657  0.708360               All Features\n",
              "1         XGBClassifier  0.725540  0.722365  Top Contributing Features\n",
              "2        LGBMClassifier  0.768107  0.766773               All Features\n",
              "3        LGBMClassifier  0.800508  0.796104  Top Contributing Features\n",
              "4  ExtraTreesClassifier  0.700127  0.706468               All Features"
            ]
          },
          "metadata": {
            "tags": []
          },
          "execution_count": 51
        }
      ]
    },
    {
      "cell_type": "code",
      "metadata": {
        "id": "EckR-Il2z0BZ",
        "colab_type": "code",
        "colab": {
          "base_uri": "https://localhost:8080/",
          "height": 453
        },
        "outputId": "e667e636-90db-4071-cd5f-e066a28b4956"
      },
      "source": [
        "plt.figure(figsize = (7,5))\n",
        "sns.set(style='whitegrid',)\n",
        "sns.lineplot(x=\"Classifier\", y=\"Accuracy\", data = df_comparison, hue = \"Features\",style = \"Features\", palette = \"Accent_r\", dashes = False, markers = [\"o\", \"o\"] )\n",
        "\n",
        "plt.title(\"Accuracy vs Classifier Plot\", fontsize = 13)\n",
        "plt.xlabel(\"Classifier\", fontsize = 10)\n",
        "plt.ylabel(\"Accuracy\", fontsize = 10)\n",
        "# chart.set_xticklabels(chart.get_xticklabels(), rotation=45, horizontalalignment='right')\n",
        "plt.xticks(rotation=45, horizontalalignment='right', fontweight='light') \n",
        "plt.show()"
      ],
      "execution_count": 99,
      "outputs": [
        {
          "output_type": "display_data",
          "data": {
            "image/png": "[encoded data removed]",
            "text/plain": [
              "<Figure size 504x360 with 1 Axes>"
            ]
          },
          "metadata": {
            "tags": []
          }
        }
      ]
    },
    {
      "cell_type": "code",
      "metadata": {
        "id": "XYF6iEsG4uF0",
        "colab_type": "code",
        "colab": {
          "base_uri": "https://localhost:8080/",
          "height": 453
        },
        "outputId": "3f9848d5-0292-4b8f-8b76-c9913ee5d7a3"
      },
      "source": [
        "plt.figure(figsize = (7,5))\n",
        "sns.set(style='whitegrid',)\n",
        "chart = sns.lineplot(x=\"Classifier\", y=\"F1 Score\", data = df_comparison, hue = \"Features\",style = \"Features\", palette = \"Accent_r\", dashes = False, markers = [\"o\", \"o\"] )\n",
        "plt.xticks(rotation=45, horizontalalignment='right', fontweight='light') \n",
        "plt.title(\"F1 Score vs Classifier Plot\", fontsize = 13)\n",
        "plt.xlabel(\"Classifier\", fontsize = 10)\n",
        "plt.ylabel(\"F1 Score\", fontsize = 10)\n",
        "\n",
        "plt.show()"
      ],
      "execution_count": 100,
      "outputs": [
        {
          "output_type": "display_data",
          "data": {
            "image/png": "[encoded data removed]",
            "text/plain": [
              "<Figure size 504x360 with 1 Axes>"
            ]
          },
          "metadata": {
            "tags": []
          }
        }
      ]
    },
    {
      "cell_type": "code",
      "metadata": {
        "id": "XbEybxpl3a1k",
        "colab_type": "code",
        "colab": {}
      },
      "source": [
        "clf_updated = LGBMClassifier()"
      ],
      "execution_count": 0,
      "outputs": []
    },
    {
      "cell_type": "code",
      "metadata": {
        "id": "TCwz9Rhq3ggd",
        "colab_type": "code",
        "outputId": "41d88244-1c17-43a5-f5be-41410a7c96c1",
        "colab": {
          "base_uri": "https://localhost:8080/",
          "height": 124
        }
      },
      "source": [
        "clf_updated.fit(x_train_updated, y_train_updated)"
      ],
      "execution_count": 43,
      "outputs": [
        {
          "output_type": "execute_result",
          "data": {
            "text/plain": [
              "LGBMClassifier(boosting_type='gbdt', class_weight=None, colsample_bytree=1.0,\n",
              "               importance_type='split', learning_rate=0.1, max_depth=-1,\n",
              "               min_child_samples=20, min_child_weight=0.001, min_split_gain=0.0,\n",
              "               n_estimators=100, n_jobs=-1, num_leaves=31, objective=None,\n",
              "               random_state=None, reg_alpha=0.0, reg_lambda=0.0, silent=True,\n",
              "               subsample=1.0, subsample_for_bin=200000, subsample_freq=0)"
            ]
          },
          "metadata": {
            "tags": []
          },
          "execution_count": 43
        }
      ]
    },
    {
      "cell_type": "code",
      "metadata": {
        "id": "tc0voMgc4k9c",
        "colab_type": "code",
        "colab": {}
      },
      "source": [
        "y_pred_updated = clf_updated.predict(x_test_updated)"
      ],
      "execution_count": 0,
      "outputs": []
    },
    {
      "cell_type": "code",
      "metadata": {
        "id": "VRZCL0w_3nD2",
        "colab_type": "code",
        "colab": {}
      },
      "source": [
        "score_updated = clf_updated.score(x_test_updated, y_test_updated)"
      ],
      "execution_count": 0,
      "outputs": []
    },
    {
      "cell_type": "code",
      "metadata": {
        "id": "IqKGUvY53u-V",
        "colab_type": "code",
        "outputId": "997cd254-12e7-479a-d401-fdd97d6c0d46",
        "colab": {
          "base_uri": "https://localhost:8080/",
          "height": 35
        }
      },
      "source": [
        "score_updated"
      ],
      "execution_count": 46,
      "outputs": [
        {
          "output_type": "execute_result",
          "data": {
            "text/plain": [
              "0.7878017789072427"
            ]
          },
          "metadata": {
            "tags": []
          },
          "execution_count": 46
        }
      ]
    },
    {
      "cell_type": "code",
      "metadata": {
        "id": "SjvbrPZO38Hh",
        "colab_type": "code",
        "colab": {}
      },
      "source": [
        "fiscore_updated = f1_score(y_test_updated, y_pred_updated, pos_label='yes')"
      ],
      "execution_count": 0,
      "outputs": []
    },
    {
      "cell_type": "code",
      "metadata": {
        "id": "mXvfGwVp4rP3",
        "colab_type": "code",
        "outputId": "db34277d-a188-45aa-e5c0-a6e8f5afde94",
        "colab": {
          "base_uri": "https://localhost:8080/",
          "height": 35
        }
      },
      "source": [
        "fiscore_updated"
      ],
      "execution_count": 48,
      "outputs": [
        {
          "output_type": "execute_result",
          "data": {
            "text/plain": [
              "0.7799736495388669"
            ]
          },
          "metadata": {
            "tags": []
          },
          "execution_count": 48
        }
      ]
    },
    {
      "cell_type": "code",
      "metadata": {
        "id": "gXBCSSt4GM5L",
        "colab_type": "code",
        "colab": {}
      },
      "source": [
        "from sklearn import metrics"
      ],
      "execution_count": 0,
      "outputs": []
    }
  ]
}