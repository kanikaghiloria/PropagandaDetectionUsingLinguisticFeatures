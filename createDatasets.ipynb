{
 "cells": [
  {
   "cell_type": "code",
   "execution_count": 78,
   "metadata": {
    "pycharm": {
     "name": "#%%\n"
    }
   },
   "outputs": [],
   "source": [
    "import os\n",
    "import pandas as pd\n",
    "import nltk"
   ]
  },
  {
   "cell_type": "code",
   "execution_count": 79,
   "metadata": {},
   "outputs": [],
   "source": [
    "import numpy as np"
   ]
  },
  {
   "cell_type": "code",
   "execution_count": 80,
   "metadata": {
    "pycharm": {
     "name": "#%%\n"
    }
   },
   "outputs": [],
   "source": [
    "dataDirectoryPath = 'resources/datasets-v5/tasks-2-3/train'"
   ]
  },
  {
   "cell_type": "code",
   "execution_count": 81,
   "metadata": {
    "pycharm": {
     "name": "#%%\n"
    }
   },
   "outputs": [],
   "source": [
    "dataframesPath = 'resources'"
   ]
  },
  {
   "cell_type": "code",
   "execution_count": 82,
   "metadata": {
    "pycharm": {
     "name": "#%%\n"
    }
   },
   "outputs": [],
   "source": [
    "files = os.listdir(dataDirectoryPath)\n",
    "files.sort()"
   ]
  },
  {
   "cell_type": "code",
   "execution_count": 83,
   "metadata": {
    "pycharm": {
     "name": "#%%\n"
    }
   },
   "outputs": [],
   "source": [
    "labelsPathsBinary = []\n",
    "labelsPathsMulti = []\n",
    "newsArticles = []\n",
    "labelsBinary = []\n",
    "labelsMulti = []\n",
    "propTagsSpan = {}\n",
    "propTagsTechnique = {}"
   ]
  },
  {
   "cell_type": "code",
   "execution_count": 84,
   "metadata": {
    "pycharm": {
     "name": "#%%\n"
    }
   },
   "outputs": [],
   "source": [
    "for i in range(len(files)):\n",
    "    article = files[i]\n",
    "    if (\".txt\" in article):\n",
    "        article = os.path.splitext(article)[0]\n",
    "        newsArticles.append(article)\n",
    "        # articleNumber.append(article.replace('article', ''))\n",
    "        tagPath = dataDirectoryPath + \"/\" + article + \".task2.labels\"\n",
    "        labelsPathsBinary.append(tagPath)\n",
    "        tagPath = dataDirectoryPath + \"/\" + article + \".task3.labels\"\n",
    "        labelsPathsMulti.append(tagPath)\n",
    "    if(\".task2\" in article):\n",
    "        labelsBinary.append(article)\n",
    "    if (\".task3\" in article):\n",
    "        labelsMulti.append(article)"
   ]
  },
  {
   "cell_type": "code",
   "execution_count": 85,
   "metadata": {
    "pycharm": {
     "name": "#%%\n"
    }
   },
   "outputs": [
    {
     "name": "stdout",
     "output_type": "stream",
     "text": [
      "len(newsArticles):  292\n",
      "len(labelsBinary:  292\n",
      "len(labelsMulti):  292\n",
      "len(labelsPathsBinary):  292\n",
      "len(labelsPathsMulti):  292\n"
     ]
    }
   ],
   "source": [
    "print (\"len(newsArticles): \", len(newsArticles))\n",
    "print (\"len(labelsBinary: \",len(labelsBinary))\n",
    "print (\"len(labelsMulti): \",len(labelsMulti))\n",
    "print (\"len(labelsPathsBinary): \",len(labelsPathsBinary))\n",
    "print (\"len(labelsPathsMulti): \", len(labelsPathsMulti))"
   ]
  },
  {
   "cell_type": "code",
   "execution_count": 86,
   "metadata": {
    "pycharm": {
     "name": "#%%\n"
    }
   },
   "outputs": [],
   "source": [
    "newsArticles.sort()\n",
    "labelsBinary.sort()\n",
    "labelsMulti.sort()\n",
    "labelsPathsBinary.sort()\n",
    "labelsPathsMulti.sort()"
   ]
  },
  {
   "cell_type": "code",
   "execution_count": 87,
   "metadata": {
    "pycharm": {
     "name": "#%%\n"
    }
   },
   "outputs": [
    {
     "name": "stdout",
     "output_type": "stream",
     "text": [
      "newsArticles[0]:  article111111112\n",
      "labelsBinary[0]:  article111111112.task2.labels\n",
      "labelsMulti[0]:  article111111112.task3.labels\n",
      "labelsPathsBinary[0]:  resources/datasets-v5/tasks-2-3/train/article111111112.task2.labels\n",
      "labelsPathsMulti[0]:  resources/datasets-v5/tasks-2-3/train/article111111112.task3.labels\n"
     ]
    }
   ],
   "source": [
    "print(\"newsArticles[0]: \", newsArticles[0])\n",
    "print(\"labelsBinary[0]: \", labelsBinary[0])\n",
    "print(\"labelsMulti[0]: \",labelsMulti[0])\n",
    "print(\"labelsPathsBinary[0]: \",labelsPathsBinary[0])\n",
    "print(\"labelsPathsMulti[0]: \", labelsPathsMulti[0])"
   ]
  },
  {
   "cell_type": "markdown",
   "metadata": {
    "pycharm": {
     "name": "#%% md\n"
    }
   },
   "source": [
    "#creating dataset for task 2"
   ]
  },
  {
   "cell_type": "code",
   "execution_count": 88,
   "metadata": {
    "pycharm": {
     "name": "#%%\n"
    }
   },
   "outputs": [
    {
     "name": "stdout",
     "output_type": "stream",
     "text": [
      "file: resources/datasets-v5/tasks-2-3/train/article111111112.task2.labels\n",
      "Article Number: 111111112\n"
     ]
    }
   ],
   "source": [
    "for i in range(len(labelsBinary)):\n",
    "    file = dataDirectoryPath + \"/\" + labelsBinary[i]\n",
    "  \n",
    "    with open(file) as f:\n",
    "        tags = f.readlines()\n",
    "        articleNumber = newsArticles[i].replace('article', '')\n",
    "        if (i==0):\n",
    "            print (\"file: \" + file)\n",
    "            print(\"Article Number: \" + articleNumber)\n",
    "        for ctr in range(len(tags)):\n",
    "            tag = tags[ctr]\n",
    "            tag = tag.replace(\"\\t\", \" \")\n",
    "            tag = tag.replace(\"\\n\", \" \")\n",
    "            tags[ctr] = tag\n",
    "        propTagsSpan[newsArticles[i]] = tags\n",
    "    f.close()"
   ]
  },
  {
   "cell_type": "code",
   "execution_count": 89,
   "metadata": {
    "pycharm": {
     "name": "#%%\n"
    }
   },
   "outputs": [
    {
     "name": "stdout",
     "output_type": "stream",
     "text": [
      "['771254016 1 non-propaganda ', '771254016 2 non-propaganda ', '771254016 3 non-propaganda ', '771254016 4 non-propaganda ', '771254016 5 non-propaganda ', '771254016 6 non-propaganda ', '771254016 7 non-propaganda ', '771254016 8 non-propaganda ', '771254016 9 propaganda ', '771254016 10 non-propaganda ', '771254016 11 propaganda ', '771254016 12 non-propaganda ', '771254016 13 propaganda ', '771254016 14 propaganda ', '771254016 15 non-propaganda ']\n"
     ]
    }
   ],
   "source": [
    "print(propTagsSpan[newsArticles[207]])"
   ]
  },
  {
   "cell_type": "code",
   "execution_count": 90,
   "metadata": {
    "pycharm": {
     "name": "#%%\n"
    }
   },
   "outputs": [],
   "source": [
    "propSentencesBinary = []\n",
    "propSentenceArticleId = []\n",
    "propSentenceId = []\n",
    "nonPropSentencesBinary = []\n",
    "nonPropSentenceArticleId = []\n",
    "nonPropSentenceId = []\n",
    "i=0\n",
    "j=0\n",
    "k=0\n",
    "for article in newsArticles:\n",
    "    articlePath = dataDirectoryPath + \"/\" + article + \".txt\"\n",
    "\n",
    "    words = propTagsSpan[article]\n",
    "  # print(\"article: \", article)\n",
    "    with open(articlePath, encoding=\"utf-8\") as f:\n",
    "        lines = f.readlines()\n",
    "    \n",
    "        for ctr in range(len(lines)):\n",
    "            \n",
    "            word = words[ctr].split()\n",
    "            word[2] = word[2].strip()\n",
    "            \n",
    "#             if(article =='article111111113'):\n",
    "#                 print(\"====================================================================================\")\n",
    "#                 print(\"word: \", word)\n",
    "#                 print(i , \" // article: \", article)\n",
    "#                 print(i , \" // word[0]: \", word[0], \" // word[1]: \", word[1], \" // word[2]: \", word[2])\n",
    "#             break;\n",
    "            if(word[2] == 'propaganda'):\n",
    "                line = lines[ctr].replace(\"\\n\", \" \")\n",
    "                line = line.replace(\"\\t\", \" \")\n",
    "                line = line.replace(\"\\u200b\", \" \")\n",
    "                line = line.replace(\"\\ufeff\", \" \")\n",
    "                line = line.replace(\"\\u202c\", \" \")\n",
    "                line = line.replace(\"\\u0301\", \" \")\n",
    "                line = line.replace(\"\\u0301\", \" \")\n",
    "                \n",
    "                propSentencesBinary.append(line)\n",
    "                propSentenceArticleId.append(word[0])\n",
    "                propSentenceId.append(word[1])\n",
    "                k=k+1\n",
    "#                 if(k == 657):\n",
    "#                     print(\"article: \", article)\n",
    "#                     print(i, \" : line: \", line)\n",
    "# #                 print(\"wholeArticle length: \", len(wholeArticle))\n",
    "#                     print(\"len(words): \", len(words))\n",
    "#                     break;             \n",
    "            if(word[2] == 'non-propaganda' and len(lines[ctr].strip()) != 0):\n",
    "                # if(j == 1):\n",
    "                #   print (j , \" : len(lines[ctr].strip()): \", len(lines[ctr].strip()))\n",
    "                #   print(\"lines[ctr]: \", lines[ctr])\n",
    "                line = lines[ctr].replace(\"\\n\", \" \")\n",
    "                line = line.replace(\"\\t\", \" \")\n",
    "                line = line.replace(\"\\u200b\", \" \")\n",
    "                line = line.replace(\"\\ufeff\", \" \")\n",
    "                line = line.replace(\"\\u202c\", \" \")\n",
    "                line = line.replace(\"\\u0301\", \" \")\n",
    "                line = line.replace(\"\\u0301\", \" \")\n",
    "                nonPropSentencesBinary.append(line)\n",
    "                nonPropSentenceArticleId.append(word[0])\n",
    "                nonPropSentenceId.append(word[1])\n",
    "                j=j+1\n",
    "            i=i+1\n",
    "    # print (\"wholeArticle.count(): \",len(wholeArticle))"
   ]
  },
  {
   "cell_type": "code",
   "execution_count": null,
   "metadata": {},
   "outputs": [],
   "source": []
  },
  {
   "cell_type": "code",
   "execution_count": 94,
   "metadata": {},
   "outputs": [
    {
     "data": {
      "text/plain": [
       "'The civility of the Left on full display… pic.twitter.com/gUzBVRpP7X — The Columbia Bugle 🇺🇸 (@ColumbiaBugle) July 5, 2018 '"
      ]
     },
     "execution_count": 94,
     "metadata": {},
     "output_type": "execute_result"
    }
   ],
   "source": [
    "propSentenceId.pop(2240)\n",
    "propSentenceArticleId.pop(2240)\n",
    "propSentencesBinary.pop(2240)"
   ]
  },
  {
   "cell_type": "code",
   "execution_count": 95,
   "metadata": {
    "pycharm": {
     "name": "#%%\n"
    }
   },
   "outputs": [
    {
     "data": {
      "text/plain": [
       "'You ain’t supporting shit nigga,” and then throws the drink in the face of a 16-year-old boy. '"
      ]
     },
     "execution_count": 95,
     "metadata": {},
     "output_type": "execute_result"
    }
   ],
   "source": [
    "propSentencesBinary[2240]"
   ]
  },
  {
   "cell_type": "code",
   "execution_count": 96,
   "metadata": {},
   "outputs": [],
   "source": [
    "# nonPropSentencesBinary.remove(' ')"
   ]
  },
  {
   "cell_type": "code",
   "execution_count": 97,
   "metadata": {},
   "outputs": [
    {
     "data": {
      "text/plain": [
       "'#LasVagasShooting pic.twitter.com/U9tULYsk2R — Michael 🇺🇸 (@trendy) October 3, 2017 '"
      ]
     },
     "execution_count": 97,
     "metadata": {},
     "output_type": "execute_result"
    }
   ],
   "source": [
    "nonPropSentenceArticleId.pop(406)\n",
    "nonPropSentenceId.pop(406)\n",
    "nonPropSentencesBinary.pop(406)"
   ]
  },
  {
   "cell_type": "code",
   "execution_count": null,
   "metadata": {},
   "outputs": [],
   "source": []
  },
  {
   "cell_type": "code",
   "execution_count": 98,
   "metadata": {
    "pycharm": {
     "name": "#%%\n"
    }
   },
   "outputs": [
    {
     "data": {
      "text/plain": [
       "'The #StephenPaddock suicide note that the govt. '"
      ]
     },
     "execution_count": 98,
     "metadata": {},
     "output_type": "execute_result"
    }
   ],
   "source": [
    "nonPropSentencesBinary[406]"
   ]
  },
  {
   "cell_type": "code",
   "execution_count": 99,
   "metadata": {
    "pycharm": {
     "name": "#%%\n"
    }
   },
   "outputs": [
    {
     "name": "stdout",
     "output_type": "stream",
     "text": [
      "len(propSentencesBinary):  3935\n",
      "len(propSentenceArticleId):  3935\n",
      "len(propSentenceId):  3935\n",
      "len(nonPropSentencesBinary):  10293\n",
      "len(nonPropSentenceArticleId):  10293\n",
      "len(nonPropSentenceId):  10293\n"
     ]
    }
   ],
   "source": [
    "print(\"len(propSentencesBinary): \",len(propSentencesBinary))\n",
    "print(\"len(propSentenceArticleId): \", len(propSentenceArticleId))\n",
    "print(\"len(propSentenceId): \", len(propSentenceId))\n",
    "print(\"len(nonPropSentencesBinary): \", len(nonPropSentencesBinary))\n",
    "print(\"len(nonPropSentenceArticleId): \", len(nonPropSentenceArticleId))\n",
    "print(\"len(nonPropSentenceId): \", len(nonPropSentenceId))"
   ]
  },
  {
   "cell_type": "code",
   "execution_count": 100,
   "metadata": {
    "pycharm": {
     "name": "#%%\n"
    }
   },
   "outputs": [],
   "source": [
    "nonPropSentenceArticleId = nonPropSentenceArticleId[:len(propSentencesBinary)]\n",
    "nonPropSentenceId = nonPropSentenceId[:len(propSentencesBinary)]\n",
    "nonPropSentencesBinary = nonPropSentencesBinary[:len(propSentencesBinary)]"
   ]
  },
  {
   "cell_type": "code",
   "execution_count": 101,
   "metadata": {
    "pycharm": {
     "name": "#%%\n"
    }
   },
   "outputs": [
    {
     "name": "stdout",
     "output_type": "stream",
     "text": [
      "len(propSentencesBinary):  3935\n",
      "len(propSentenceArticleId):  3935\n",
      "len(propSentenceId):  3935\n",
      "len(nonPropSentencesBinary):  3935\n",
      "len(nonPropSentenceArticleId):  3935\n",
      "len(nonPropSentenceId):  3935\n"
     ]
    }
   ],
   "source": [
    "print(\"len(propSentencesBinary): \",len(propSentencesBinary))\n",
    "print(\"len(propSentenceArticleId): \", len(propSentenceArticleId))\n",
    "print(\"len(propSentenceId): \", len(propSentenceId))\n",
    "print(\"len(nonPropSentencesBinary): \", len(nonPropSentencesBinary))\n",
    "print(\"len(nonPropSentenceArticleId): \", len(nonPropSentenceArticleId))\n",
    "print(\"len(nonPropSentenceId): \", len(nonPropSentenceId))"
   ]
  },
  {
   "cell_type": "code",
   "execution_count": 102,
   "metadata": {
    "pycharm": {
     "name": "#%%\n"
    }
   },
   "outputs": [
    {
     "data": {
      "text/plain": [
       "'US bloggers banned from entering UK '"
      ]
     },
     "execution_count": 102,
     "metadata": {},
     "output_type": "execute_result"
    }
   ],
   "source": [
    "nonPropSentencesBinary[0]"
   ]
  },
  {
   "cell_type": "code",
   "execution_count": 103,
   "metadata": {
    "pycharm": {
     "name": "#%%\n"
    }
   },
   "outputs": [],
   "source": [
    "sentencesToCsv = {}\n",
    "sentencesToCsv[\"ArticleId\"] = []\n",
    "sentencesToCsv[\"SentenceNumber\"] = []\n",
    "sentencesToCsv[\"Sentence\"] = []\n",
    "sentencesToCsv[\"Propaganda\"] = []\n",
    "\n",
    "# for sentence in propSentencesBinary:\n",
    "for i in range(len(propSentencesBinary)):\n",
    "    sentencesToCsv['ArticleId'].append(propSentenceArticleId[i])\n",
    "    sentencesToCsv['SentenceNumber'].append(propSentenceId[i])\n",
    "    sentencesToCsv['Sentence'].append(propSentencesBinary[i])\n",
    "    sentencesToCsv['Propaganda'].append(\"yes\")\n",
    "    \n",
    "\n",
    "# for sentence in nonPropSentencesBinary:\n",
    "for i in range(len(nonPropSentencesBinary)):\n",
    "    sentencesToCsv['ArticleId'].append(nonPropSentenceArticleId[i])\n",
    "    sentencesToCsv['SentenceNumber'].append(nonPropSentenceId[i])\n",
    "    sentencesToCsv['Sentence'].append(nonPropSentencesBinary[i])\n",
    "    sentencesToCsv['Propaganda'].append(\"no\")"
   ]
  },
  {
   "cell_type": "code",
   "execution_count": 104,
   "metadata": {
    "pycharm": {
     "name": "#%%\n"
    }
   },
   "outputs": [],
   "source": [
    "dataframeBinary = pd.DataFrame.from_dict(sentencesToCsv)"
   ]
  },
  {
   "cell_type": "code",
   "execution_count": 105,
   "metadata": {
    "pycharm": {
     "name": "#%%\n"
    }
   },
   "outputs": [
    {
     "data": {
      "text/html": [
       "<div>\n",
       "<style scoped>\n",
       "    .dataframe tbody tr th:only-of-type {\n",
       "        vertical-align: middle;\n",
       "    }\n",
       "\n",
       "    .dataframe tbody tr th {\n",
       "        vertical-align: top;\n",
       "    }\n",
       "\n",
       "    .dataframe thead th {\n",
       "        text-align: right;\n",
       "    }\n",
       "</style>\n",
       "<table border=\"1\" class=\"dataframe\">\n",
       "  <thead>\n",
       "    <tr style=\"text-align: right;\">\n",
       "      <th></th>\n",
       "      <th>ArticleId</th>\n",
       "      <th>SentenceNumber</th>\n",
       "      <th>Sentence</th>\n",
       "      <th>Propaganda</th>\n",
       "    </tr>\n",
       "  </thead>\n",
       "  <tbody>\n",
       "    <tr>\n",
       "      <th>0</th>\n",
       "      <td>111111112</td>\n",
       "      <td>5</td>\n",
       "      <td>Pamela Geller and Robert Spencer co-founded an...</td>\n",
       "      <td>yes</td>\n",
       "    </tr>\n",
       "    <tr>\n",
       "      <th>1</th>\n",
       "      <td>111111112</td>\n",
       "      <td>11</td>\n",
       "      <td>He added: \"We condemn all those whose behaviou...</td>\n",
       "      <td>yes</td>\n",
       "    </tr>\n",
       "    <tr>\n",
       "      <th>2</th>\n",
       "      <td>111111112</td>\n",
       "      <td>14</td>\n",
       "      <td>Ms Geller, of the Atlas Shrugs blog, and Mr Sp...</td>\n",
       "      <td>yes</td>\n",
       "    </tr>\n",
       "    <tr>\n",
       "      <th>3</th>\n",
       "      <td>111111112</td>\n",
       "      <td>15</td>\n",
       "      <td>On both of their blogs the pair called their b...</td>\n",
       "      <td>yes</td>\n",
       "    </tr>\n",
       "    <tr>\n",
       "      <th>4</th>\n",
       "      <td>111111112</td>\n",
       "      <td>21</td>\n",
       "      <td>The UK should never become a stage for inflamm...</td>\n",
       "      <td>yes</td>\n",
       "    </tr>\n",
       "  </tbody>\n",
       "</table>\n",
       "</div>"
      ],
      "text/plain": [
       "   ArticleId SentenceNumber  \\\n",
       "0  111111112              5   \n",
       "1  111111112             11   \n",
       "2  111111112             14   \n",
       "3  111111112             15   \n",
       "4  111111112             21   \n",
       "\n",
       "                                            Sentence Propaganda  \n",
       "0  Pamela Geller and Robert Spencer co-founded an...        yes  \n",
       "1  He added: \"We condemn all those whose behaviou...        yes  \n",
       "2  Ms Geller, of the Atlas Shrugs blog, and Mr Sp...        yes  \n",
       "3  On both of their blogs the pair called their b...        yes  \n",
       "4  The UK should never become a stage for inflamm...        yes  "
      ]
     },
     "execution_count": 105,
     "metadata": {},
     "output_type": "execute_result"
    }
   ],
   "source": [
    "dataframeBinary.head()"
   ]
  },
  {
   "cell_type": "code",
   "execution_count": 106,
   "metadata": {},
   "outputs": [
    {
     "data": {
      "text/plain": [
       "7870"
      ]
     },
     "execution_count": 106,
     "metadata": {},
     "output_type": "execute_result"
    }
   ],
   "source": [
    "len(dataframeBinary)"
   ]
  },
  {
   "cell_type": "code",
   "execution_count": 107,
   "metadata": {},
   "outputs": [],
   "source": [
    "dataframeBinary = dataframeBinary[dataframeBinary['Sentence'] != ' ']"
   ]
  },
  {
   "cell_type": "code",
   "execution_count": null,
   "outputs": [],
   "source": [
    "dataframeBinary = dataframeBinary[dataframeBinary['Sentence'] != '  ']"
   ],
   "metadata": {
    "collapsed": false,
    "pycharm": {
     "name": "#%%\n"
    }
   }
  },
  {
   "cell_type": "code",
   "execution_count": null,
   "outputs": [],
   "source": [
    "dataframeBinary.dropna(inplace=True)"
   ],
   "metadata": {
    "collapsed": false,
    "pycharm": {
     "name": "#%%\n"
    }
   }
  },
  {
   "cell_type": "code",
   "execution_count": null,
   "outputs": [],
   "source": [
    "len(dataframeBinary)"
   ],
   "metadata": {
    "collapsed": false,
    "pycharm": {
     "name": "#%%\n"
    }
   }
  },
  {
   "cell_type": "code",
   "execution_count": null,
   "outputs": [],
   "source": [
    "dataframeBinary.reset_index(inplace=True, drop=True)"
   ],
   "metadata": {
    "collapsed": false,
    "pycharm": {
     "name": "#%%\n"
    }
   }
  },
  {
   "cell_type": "code",
   "execution_count": null,
   "outputs": [],
   "source": [
    "dataframeBinary.to_excel(dataframesPath + \"/dataframebinary.xlsx\", index=False)"
   ],
   "metadata": {
    "collapsed": false,
    "pycharm": {
     "name": "#%%\n"
    }
   }
  },
  {
   "cell_type": "code",
   "execution_count": null,
   "outputs": [],
   "source": [
    "dataframeBinary.count"
   ],
   "metadata": {
    "collapsed": false,
    "pycharm": {
     "name": "#%%\n"
    }
   }
  },
  {
   "cell_type": "markdown",
   "source": [
    "# #creating dataset for task 3"
   ],
   "metadata": {
    "collapsed": false
   }
  },
  {
   "cell_type": "code",
   "execution_count": null,
   "outputs": [],
   "source": [
    "for i in range(len(labelsMulti)):\n",
    "    file = dataDirectoryPath + \"/\" + labelsMulti[i]\n",
    "    with open(file) as f:\n",
    "        tags = f.readlines()\n",
    "        articleNumber = newsArticles[i].replace('article', '')\n",
    "        if (i==0):\n",
    "            print (\"file: \" + file)\n",
    "            print(\"Article Number: \" + articleNumber)\n",
    "        for ctr in range(len(tags)):\n",
    "            tag = tags[ctr]\n",
    "#             tag = tag.replace(articleNumber, \" \")\n",
    "            tag = tag.replace(\"\\t\", \" \")\n",
    "            tag = tag.replace(\"\\n\", \" \")\n",
    "            tags[ctr] = tag\n",
    "        propTagsTechnique[newsArticles[i]] = tags\n",
    "    f.close()"
   ],
   "metadata": {
    "collapsed": false,
    "pycharm": {
     "name": "#%%\n"
    }
   }
  },
  {
   "cell_type": "code",
   "execution_count": null,
   "outputs": [],
   "source": [
    "print(propTagsTechnique[newsArticles[0]])"
   ],
   "metadata": {
    "collapsed": false,
    "pycharm": {
     "name": "#%%\n"
    }
   }
  },
  {
   "cell_type": "code",
   "execution_count": null,
   "outputs": [],
   "source": [
    "propagandaTechniques = {}\n",
    "propagandaTechniques[\"ArticleId\"] = []\n",
    "propagandaTechniques[\"Start\"] = []\n",
    "propagandaTechniques[\"End\"] = []\n",
    "propagandaTechniques[\"Fragment\"] = []\n",
    "propagandaTechniques[\"Technique\"] = []\n",
    "i =0\n",
    "for article in newsArticles:\n",
    "    articlePath = dataDirectoryPath + \"/\" + article + \".txt\"\n",
    "\n",
    "    words = propTagsTechnique[article]\n",
    "    with open(articlePath, encoding=\"utf-8\") as f:\n",
    "        wholeArticle = f.read()\n",
    "        for word in words:\n",
    "            word = word.split()\n",
    "            \n",
    "            if(article.replace(\"article\",\"\") != word[0]):\n",
    "#             if(i==206 or i==207):\n",
    "                print(i , \" // article: \", article)\n",
    "                print(i , \" // word[0]: \", word[0], \" // word[1]: \", word[1], \" // word[2]: \", word[2], \" // word[3]: \", word[3])\n",
    "            start = int(word[2])\n",
    "            end = int(word[3])\n",
    "            frg = wholeArticle[start:end]\n",
    "            frg = frg.replace(\"\\n\", \" \")\n",
    "            frg = frg.replace(\"\\t\", \" \")\n",
    "            frg = frg.replace(\"\\u200b\", \" \")\n",
    "            frg = frg.replace(\"\\ufeff\", \" \")\n",
    "            frg = frg.replace(\"\\u202c\", \" \")\n",
    "            frg = frg.replace(\"\\u0301\", \" \")\n",
    "            frg = frg.replace(\"\\u0301\", \" \")\n",
    "            if(len(frg.strip()) != 0):\n",
    "                propagandaTechniques['Fragment'].append(frg)\n",
    "                propagandaTechniques['ArticleId'].append(word[0])\n",
    "                propagandaTechniques['Technique'].append(word[1])\n",
    "                propagandaTechniques['Start'].append(word[2])\n",
    "                propagandaTechniques['End'].append(word[3])\n",
    "        i=i+1\n",
    "    f.close()"
   ],
   "metadata": {
    "collapsed": false,
    "pycharm": {
     "name": "#%%\n"
    }
   }
  },
  {
   "cell_type": "code",
   "execution_count": null,
   "outputs": [],
   "source": [
    "dataframeMulti = pd.DataFrame.from_dict(propagandaTechniques)"
   ],
   "metadata": {
    "collapsed": false,
    "pycharm": {
     "name": "#%%\n"
    }
   }
  },
  {
   "cell_type": "code",
   "execution_count": null,
   "outputs": [],
   "source": [
    "dataframeMulti.head()"
   ],
   "metadata": {
    "collapsed": false,
    "pycharm": {
     "name": "#%%\n"
    }
   }
  },
  {
   "cell_type": "code",
   "execution_count": null,
   "outputs": [],
   "source": [
    "dataframeMulti.dropna(inplace=True)"
   ],
   "metadata": {
    "collapsed": false,
    "pycharm": {
     "name": "#%%\n"
    }
   }
  },
  {
   "cell_type": "code",
   "execution_count": null,
   "outputs": [],
   "source": [
    "dataframeMulti.reset_index(inplace=True, drop=True)"
   ],
   "metadata": {
    "collapsed": false,
    "pycharm": {
     "name": "#%%\n"
    }
   }
  },
  {
   "cell_type": "code",
   "execution_count": 108,
   "metadata": {},
   "outputs": [],
   "source": [
    "dataframeMulti.to_excel(dataframesPath + \"/dataframemulti.xlsx\", index=False)"
   ]
  },
  {
   "cell_type": "code",
   "execution_count": 109,
   "metadata": {},
   "outputs": [],
   "source": [
    "dataframeBinary.dropna(inplace=True)"
   ]
  },
  {
   "cell_type": "code",
   "execution_count": 110,
   "metadata": {},
   "outputs": [
    {
     "data": {
      "text/plain": [
       "7867"
      ]
     },
     "execution_count": 110,
     "metadata": {},
     "output_type": "execute_result"
    }
   ],
   "source": [
    "len(dataframeBinary)"
   ]
  },
  {
   "cell_type": "code",
   "execution_count": 111,
   "metadata": {},
   "outputs": [],
   "source": [
    "dataframeBinary.reset_index(inplace=True, drop=True)"
   ]
  },
  {
   "cell_type": "code",
   "execution_count": 113,
   "metadata": {
    "pycharm": {
     "name": "#%%\n"
    }
   },
   "outputs": [],
   "source": [
    "dataframeBinary.to_excel(dataframesPath + \"/dataframebinary.xlsx\", index=False)"
   ]
  },
  {
   "cell_type": "code",
   "execution_count": null,
   "metadata": {
    "pycharm": {
     "name": "#%%\n"
    }
   },
   "outputs": [],
   "source": [
    "dataframeBinary.count"
   ]
  },
  {
   "cell_type": "markdown",
   "metadata": {},
   "source": [
    "# #creating dataset for task 3"
   ]
  },
  {
   "cell_type": "code",
   "execution_count": 122,
   "metadata": {
    "pycharm": {
     "name": "#%%\n"
    }
   },
   "outputs": [
    {
     "name": "stdout",
     "output_type": "stream",
     "text": [
      "file: resources/datasets-v5/tasks-2-3/train/article111111112.task3.labels\n",
      "Article Number: 111111112\n"
     ]
    }
   ],
   "source": [
    "for i in range(len(labelsMulti)):\n",
    "    file = dataDirectoryPath + \"/\" + labelsMulti[i]\n",
    "    with open(file) as f:\n",
    "        tags = f.readlines()\n",
    "        articleNumber = newsArticles[i].replace('article', '')\n",
    "        if (i==0):\n",
    "            print (\"file: \" + file)\n",
    "            print(\"Article Number: \" + articleNumber)\n",
    "        for ctr in range(len(tags)):\n",
    "            tag = tags[ctr]\n",
    "#             tag = tag.replace(articleNumber, \" \")\n",
    "            tag = tag.replace(\"\\t\", \" \")\n",
    "            tag = tag.replace(\"\\n\", \" \")\n",
    "            tags[ctr] = tag\n",
    "        propTagsTechnique[newsArticles[i]] = tags\n",
    "    f.close()"
   ]
  },
  {
   "cell_type": "code",
   "execution_count": 123,
   "metadata": {
    "pycharm": {
     "name": "#%%\n"
    }
   },
   "outputs": [
    {
     "name": "stdout",
     "output_type": "stream",
     "text": [
      "['111111112 Slogans 191 221 ', '111111112 Black-and-White_Fallacy 476 556 ', '111111112 Slogans 785 798 ', '111111112 Loaded_Language 958 1015 ', '111111112 Flag-Waving 1456 1536 ', '111111112 Name_Calling,Labeling 1810 1824 ', '111111112 Loaded_Language 2095 2125 ', '111111112 Loaded_Language 911 942 ', '111111112 Name_Calling,Labeling 1738 1787 ']\n"
     ]
    }
   ],
   "source": [
    "print(propTagsTechnique[newsArticles[0]])"
   ]
  },
  {
   "cell_type": "code",
   "execution_count": 124,
   "metadata": {
    "pycharm": {
     "name": "#%%\n"
    }
   },
   "outputs": [],
   "source": [
    "propagandaTechniques = {}\n",
    "propagandaTechniques[\"ArticleId\"] = []\n",
    "propagandaTechniques[\"Start\"] = []\n",
    "propagandaTechniques[\"End\"] = []\n",
    "propagandaTechniques[\"Fragment\"] = []\n",
    "propagandaTechniques[\"Technique\"] = []\n",
    "i =0\n",
    "for article in newsArticles:\n",
    "    articlePath = dataDirectoryPath + \"/\" + article + \".txt\"\n",
    "\n",
    "    words = propTagsTechnique[article]\n",
    "    with open(articlePath, encoding=\"utf-8\") as f:\n",
    "        wholeArticle = f.read()\n",
    "        for word in words:\n",
    "            word = word.split()\n",
    "            \n",
    "            if(article.replace(\"article\",\"\") != word[0]):\n",
    "#             if(i==206 or i==207):\n",
    "                print(i , \" // article: \", article)\n",
    "                print(i , \" // word[0]: \", word[0], \" // word[1]: \", word[1], \" // word[2]: \", word[2], \" // word[3]: \", word[3])\n",
    "            start = int(word[2])\n",
    "            end = int(word[3])\n",
    "            frg = wholeArticle[start:end]\n",
    "            frg = frg.replace(\"\\n\", \" \")\n",
    "            frg = frg.replace(\"\\t\", \" \")\n",
    "            frg = frg.replace(\"\\u200b\", \" \")\n",
    "            frg = frg.replace(\"\\ufeff\", \" \")\n",
    "            frg = frg.replace(\"\\u202c\", \" \")\n",
    "            frg = frg.replace(\"\\u0301\", \" \")\n",
    "            frg = frg.replace(\"\\u0301\", \" \")\n",
    "            if(len(frg.strip()) != 0):\n",
    "                propagandaTechniques['Fragment'].append(frg)\n",
    "                propagandaTechniques['ArticleId'].append(word[0])\n",
    "                propagandaTechniques['Technique'].append(word[1])\n",
    "                propagandaTechniques['Start'].append(word[2])\n",
    "                propagandaTechniques['End'].append(word[3])\n",
    "        i=i+1\n",
    "    f.close()"
   ]
  },
  {
   "cell_type": "code",
   "execution_count": 125,
   "metadata": {
    "pycharm": {
     "name": "#%%\n"
    }
   },
   "outputs": [],
   "source": [
    "dataframeMulti = pd.DataFrame.from_dict(propagandaTechniques)"
   ]
  },
  {
   "cell_type": "code",
   "execution_count": 126,
   "metadata": {
    "pycharm": {
     "name": "#%%\n"
    }
   },
   "outputs": [
    {
     "data": {
      "text/html": [
       "<div>\n",
       "<style scoped>\n",
       "    .dataframe tbody tr th:only-of-type {\n",
       "        vertical-align: middle;\n",
       "    }\n",
       "\n",
       "    .dataframe tbody tr th {\n",
       "        vertical-align: top;\n",
       "    }\n",
       "\n",
       "    .dataframe thead th {\n",
       "        text-align: right;\n",
       "    }\n",
       "</style>\n",
       "<table border=\"1\" class=\"dataframe\">\n",
       "  <thead>\n",
       "    <tr style=\"text-align: right;\">\n",
       "      <th></th>\n",
       "      <th>ArticleId</th>\n",
       "      <th>Start</th>\n",
       "      <th>End</th>\n",
       "      <th>Fragment</th>\n",
       "      <th>Technique</th>\n",
       "    </tr>\n",
       "  </thead>\n",
       "  <tbody>\n",
       "    <tr>\n",
       "      <th>0</th>\n",
       "      <td>111111112</td>\n",
       "      <td>191</td>\n",
       "      <td>221</td>\n",
       "      <td>Stop Islamization of America.</td>\n",
       "      <td>Slogans</td>\n",
       "    </tr>\n",
       "    <tr>\n",
       "      <th>1</th>\n",
       "      <td>111111112</td>\n",
       "      <td>476</td>\n",
       "      <td>556</td>\n",
       "      <td>We condemn all those whose behaviours and view...</td>\n",
       "      <td>Black-and-White_Fallacy</td>\n",
       "    </tr>\n",
       "    <tr>\n",
       "      <th>2</th>\n",
       "      <td>111111112</td>\n",
       "      <td>785</td>\n",
       "      <td>798</td>\n",
       "      <td>Defeat Jihad\"</td>\n",
       "      <td>Slogans</td>\n",
       "    </tr>\n",
       "    <tr>\n",
       "      <th>3</th>\n",
       "      <td>111111112</td>\n",
       "      <td>958</td>\n",
       "      <td>1015</td>\n",
       "      <td>the nation that gave the world the Magna Carta...</td>\n",
       "      <td>Loaded_Language</td>\n",
       "    </tr>\n",
       "    <tr>\n",
       "      <th>4</th>\n",
       "      <td>111111112</td>\n",
       "      <td>1456</td>\n",
       "      <td>1536</td>\n",
       "      <td>The UK should never become a stage for inflamm...</td>\n",
       "      <td>Flag-Waving</td>\n",
       "    </tr>\n",
       "  </tbody>\n",
       "</table>\n",
       "</div>"
      ],
      "text/plain": [
       "   ArticleId Start   End                                           Fragment  \\\n",
       "0  111111112   191   221                     Stop Islamization of America.    \n",
       "1  111111112   476   556  We condemn all those whose behaviours and view...   \n",
       "2  111111112   785   798                                      Defeat Jihad\"   \n",
       "3  111111112   958  1015  the nation that gave the world the Magna Carta...   \n",
       "4  111111112  1456  1536  The UK should never become a stage for inflamm...   \n",
       "\n",
       "                 Technique  \n",
       "0                  Slogans  \n",
       "1  Black-and-White_Fallacy  \n",
       "2                  Slogans  \n",
       "3          Loaded_Language  \n",
       "4              Flag-Waving  "
      ]
     },
     "execution_count": 126,
     "metadata": {},
     "output_type": "execute_result"
    }
   ],
   "source": [
    "dataframeMulti.head()"
   ]
  },
  {
   "cell_type": "code",
   "execution_count": 127,
   "metadata": {},
   "outputs": [],
   "source": [
    "dataframeMulti.dropna(inplace=True)"
   ]
  },
  {
   "cell_type": "code",
   "execution_count": 128,
   "metadata": {},
   "outputs": [],
   "source": [
    "dataframeMulti.reset_index(inplace=True, drop=True)"
   ]
  },
  {
   "cell_type": "code",
   "execution_count": 130,
   "metadata": {
    "pycharm": {
     "name": "#%%\n"
    }
   },
   "outputs": [],
   "source": [
    "dataframeMulti.to_excel(dataframesPath + \"/dataframemulti.xlsx\", index=False)"
   ]
  },
  {
   "cell_type": "code",
   "execution_count": null,
   "metadata": {
    "pycharm": {
     "name": "#%%\n"
    }
   },
   "outputs": [],
   "source": [
    "dataframeMulti.count"
   ]
  }
 ],
 "metadata": {
  "kernelspec": {
   "display_name": "Python 3",
   "language": "python",
   "name": "python3"
  },
  "language_info": {
   "codemirror_mode": {
    "name": "ipython",
    "version": 3
   },
   "file_extension": ".py",
   "mimetype": "text/x-python",
   "name": "python",
   "nbconvert_exporter": "python",
   "pygments_lexer": "ipython3",
   "version": "3.7.3"
  },
  "pycharm": {
   "stem_cell": {
    "cell_type": "raw",
    "source": [],
    "metadata": {
     "collapsed": false
    }
   }
  }
 },
 "nbformat": 4,
 "nbformat_minor": 1
}